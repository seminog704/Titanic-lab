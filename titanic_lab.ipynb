{
  "cells": [
    {
      "cell_type": "markdown",
      "metadata": {
        "id": "MBvv9bZkz8B2"
      },
      "source": [
        "# Работа по Титанику - hello world в мире Data Science"
      ]
    },
    {
      "cell_type": "code",
      "execution_count": 136,
      "metadata": {
        "execution": {
          "iopub.execute_input": "2024-12-13T12:37:06.750567Z",
          "iopub.status.busy": "2024-12-13T12:37:06.749779Z",
          "iopub.status.idle": "2024-12-13T12:37:06.754996Z",
          "shell.execute_reply": "2024-12-13T12:37:06.753826Z",
          "shell.execute_reply.started": "2024-12-13T12:37:06.750530Z"
        },
        "trusted": true,
        "id": "qZzCyQAgz8B3"
      },
      "outputs": [],
      "source": [
        "import numpy as np\n",
        "import pandas as pd\n",
        "import matplotlib.pyplot as plt\n",
        "import re\n",
        "import seaborn as sns\n",
        "from sklearn.linear_model import LogisticRegression\n",
        "from sklearn.metrics import f1_score\n",
        "from sklearn.metrics import classification_report\n",
        "from sklearn.model_selection import train_test_split\n",
        "from sklearn.datasets import make_classification\n",
        "from sklearn.preprocessing import StandardScaler\n",
        "from keras.models import Sequential\n",
        "from keras.layers import Dense, Dropout, BatchNormalization\n",
        "from keras.optimizers import Adam"
      ]
    },
    {
      "cell_type": "markdown",
      "source": [
        "Описание датасета:\n",
        "\n",
        "* Survived (целевой признак): выжил ли пассажир (0 = Нет, 1 = Да);\n",
        "* Pclass: класс каюты (1 = 1st, 2 = 2nd, 3 = 3rd);\n",
        "* Sex: пол (female или male)\n",
        "* Age: возраст в годах\n",
        "* SibSp: количество братьев, сестёр (в том числе сводных) и супругов на борту\n",
        "* Parch: количество детей и родителей на борту\n",
        "* Ticket: номер билета\n",
        "* Fare: стоимость проезда пассажира\n",
        "* Cabin: номер каюты\n",
        "* Embarked: порт посадки пассажира (C = Cherbourg, Q = Queenstown, S = * Southampton)."
      ],
      "metadata": {
        "id": "PQRBaoRpz-G0"
      }
    },
    {
      "cell_type": "code",
      "execution_count": 137,
      "metadata": {
        "execution": {
          "iopub.execute_input": "2024-12-13T12:37:06.759253Z",
          "iopub.status.busy": "2024-12-13T12:37:06.758922Z",
          "iopub.status.idle": "2024-12-13T12:37:06.785251Z",
          "shell.execute_reply": "2024-12-13T12:37:06.784049Z",
          "shell.execute_reply.started": "2024-12-13T12:37:06.759222Z"
        },
        "trusted": true,
        "id": "tLbOMyTXz8B3"
      },
      "outputs": [],
      "source": [
        "df = pd.read_csv('/content/sample_data/Titanic.csv')"
      ]
    },
    {
      "cell_type": "code",
      "execution_count": 138,
      "metadata": {
        "execution": {
          "iopub.execute_input": "2024-12-13T12:37:06.787226Z",
          "iopub.status.busy": "2024-12-13T12:37:06.786885Z",
          "iopub.status.idle": "2024-12-13T12:37:06.806086Z",
          "shell.execute_reply": "2024-12-13T12:37:06.805001Z",
          "shell.execute_reply.started": "2024-12-13T12:37:06.787194Z"
        },
        "trusted": true,
        "colab": {
          "base_uri": "https://localhost:8080/",
          "height": 490
        },
        "id": "DgmyVCNiz8B4",
        "outputId": "da79ff3b-8410-4fa1-ae91-2111e4570060"
      },
      "outputs": [
        {
          "output_type": "execute_result",
          "data": {
            "text/plain": [
              "PassengerId  Survived  Pclass  Name                                                 Sex     Age   SibSp  Parch  Ticket    Fare     Cabin        Embarked\n",
              "2            1         1       Cumings, Mrs. John Bradley (Florence Briggs Thayer)  female  38.0  1      0      PC 17599  71.2833  C85          C           1\n",
              "4            1         1       Futrelle, Mrs. Jacques Heath (Lily May Peel)         female  35.0  1      0      113803    53.1000  C123         S           1\n",
              "7            0         1       McCarthy, Mr. Timothy J                              male    54.0  0      0      17463     51.8625  E46          S           1\n",
              "11           1         3       Sandstrom, Miss. Marguerite Rut                      female  4.0   1      1      PP 9549   16.7000  G6           S           1\n",
              "12           1         1       Bonnell, Miss. Elizabeth                             female  58.0  0      0      113783    26.5500  C103         S           1\n",
              "                                                                                                                                                           ..\n",
              "872          1         1       Beckwith, Mrs. Richard Leonard (Sallie Monypeny)     female  47.0  1      1      11751     52.5542  D35          S           1\n",
              "873          0         1       Carlsson, Mr. Frans Olof                             male    33.0  0      0      695       5.0000   B51 B53 B55  S           1\n",
              "880          1         1       Potter, Mrs. Thomas Jr (Lily Alexenia Wilson)        female  56.0  0      1      11767     83.1583  C50          C           1\n",
              "888          1         1       Graham, Miss. Margaret Edith                         female  19.0  0      0      112053    30.0000  B42          S           1\n",
              "890          1         1       Behr, Mr. Karl Howell                                male    26.0  0      0      111369    30.0000  C148         C           1\n",
              "Name: count, Length: 183, dtype: int64"
            ],
            "text/html": [
              "<div>\n",
              "<style scoped>\n",
              "    .dataframe tbody tr th:only-of-type {\n",
              "        vertical-align: middle;\n",
              "    }\n",
              "\n",
              "    .dataframe tbody tr th {\n",
              "        vertical-align: top;\n",
              "    }\n",
              "\n",
              "    .dataframe thead th {\n",
              "        text-align: right;\n",
              "    }\n",
              "</style>\n",
              "<table border=\"1\" class=\"dataframe\">\n",
              "  <thead>\n",
              "    <tr style=\"text-align: right;\">\n",
              "      <th></th>\n",
              "      <th></th>\n",
              "      <th></th>\n",
              "      <th></th>\n",
              "      <th></th>\n",
              "      <th></th>\n",
              "      <th></th>\n",
              "      <th></th>\n",
              "      <th></th>\n",
              "      <th></th>\n",
              "      <th></th>\n",
              "      <th></th>\n",
              "      <th>count</th>\n",
              "    </tr>\n",
              "    <tr>\n",
              "      <th>PassengerId</th>\n",
              "      <th>Survived</th>\n",
              "      <th>Pclass</th>\n",
              "      <th>Name</th>\n",
              "      <th>Sex</th>\n",
              "      <th>Age</th>\n",
              "      <th>SibSp</th>\n",
              "      <th>Parch</th>\n",
              "      <th>Ticket</th>\n",
              "      <th>Fare</th>\n",
              "      <th>Cabin</th>\n",
              "      <th>Embarked</th>\n",
              "      <th></th>\n",
              "    </tr>\n",
              "  </thead>\n",
              "  <tbody>\n",
              "    <tr>\n",
              "      <th>2</th>\n",
              "      <th>1</th>\n",
              "      <th>1</th>\n",
              "      <th>Cumings, Mrs. John Bradley (Florence Briggs Thayer)</th>\n",
              "      <th>female</th>\n",
              "      <th>38.0</th>\n",
              "      <th>1</th>\n",
              "      <th>0</th>\n",
              "      <th>PC 17599</th>\n",
              "      <th>71.2833</th>\n",
              "      <th>C85</th>\n",
              "      <th>C</th>\n",
              "      <td>1</td>\n",
              "    </tr>\n",
              "    <tr>\n",
              "      <th>4</th>\n",
              "      <th>1</th>\n",
              "      <th>1</th>\n",
              "      <th>Futrelle, Mrs. Jacques Heath (Lily May Peel)</th>\n",
              "      <th>female</th>\n",
              "      <th>35.0</th>\n",
              "      <th>1</th>\n",
              "      <th>0</th>\n",
              "      <th>113803</th>\n",
              "      <th>53.1000</th>\n",
              "      <th>C123</th>\n",
              "      <th>S</th>\n",
              "      <td>1</td>\n",
              "    </tr>\n",
              "    <tr>\n",
              "      <th>7</th>\n",
              "      <th>0</th>\n",
              "      <th>1</th>\n",
              "      <th>McCarthy, Mr. Timothy J</th>\n",
              "      <th>male</th>\n",
              "      <th>54.0</th>\n",
              "      <th>0</th>\n",
              "      <th>0</th>\n",
              "      <th>17463</th>\n",
              "      <th>51.8625</th>\n",
              "      <th>E46</th>\n",
              "      <th>S</th>\n",
              "      <td>1</td>\n",
              "    </tr>\n",
              "    <tr>\n",
              "      <th>11</th>\n",
              "      <th>1</th>\n",
              "      <th>3</th>\n",
              "      <th>Sandstrom, Miss. Marguerite Rut</th>\n",
              "      <th>female</th>\n",
              "      <th>4.0</th>\n",
              "      <th>1</th>\n",
              "      <th>1</th>\n",
              "      <th>PP 9549</th>\n",
              "      <th>16.7000</th>\n",
              "      <th>G6</th>\n",
              "      <th>S</th>\n",
              "      <td>1</td>\n",
              "    </tr>\n",
              "    <tr>\n",
              "      <th>12</th>\n",
              "      <th>1</th>\n",
              "      <th>1</th>\n",
              "      <th>Bonnell, Miss. Elizabeth</th>\n",
              "      <th>female</th>\n",
              "      <th>58.0</th>\n",
              "      <th>0</th>\n",
              "      <th>0</th>\n",
              "      <th>113783</th>\n",
              "      <th>26.5500</th>\n",
              "      <th>C103</th>\n",
              "      <th>S</th>\n",
              "      <td>1</td>\n",
              "    </tr>\n",
              "    <tr>\n",
              "      <th>...</th>\n",
              "      <th>...</th>\n",
              "      <th>...</th>\n",
              "      <th>...</th>\n",
              "      <th>...</th>\n",
              "      <th>...</th>\n",
              "      <th>...</th>\n",
              "      <th>...</th>\n",
              "      <th>...</th>\n",
              "      <th>...</th>\n",
              "      <th>...</th>\n",
              "      <th>...</th>\n",
              "      <td>...</td>\n",
              "    </tr>\n",
              "    <tr>\n",
              "      <th>872</th>\n",
              "      <th>1</th>\n",
              "      <th>1</th>\n",
              "      <th>Beckwith, Mrs. Richard Leonard (Sallie Monypeny)</th>\n",
              "      <th>female</th>\n",
              "      <th>47.0</th>\n",
              "      <th>1</th>\n",
              "      <th>1</th>\n",
              "      <th>11751</th>\n",
              "      <th>52.5542</th>\n",
              "      <th>D35</th>\n",
              "      <th>S</th>\n",
              "      <td>1</td>\n",
              "    </tr>\n",
              "    <tr>\n",
              "      <th>873</th>\n",
              "      <th>0</th>\n",
              "      <th>1</th>\n",
              "      <th>Carlsson, Mr. Frans Olof</th>\n",
              "      <th>male</th>\n",
              "      <th>33.0</th>\n",
              "      <th>0</th>\n",
              "      <th>0</th>\n",
              "      <th>695</th>\n",
              "      <th>5.0000</th>\n",
              "      <th>B51 B53 B55</th>\n",
              "      <th>S</th>\n",
              "      <td>1</td>\n",
              "    </tr>\n",
              "    <tr>\n",
              "      <th>880</th>\n",
              "      <th>1</th>\n",
              "      <th>1</th>\n",
              "      <th>Potter, Mrs. Thomas Jr (Lily Alexenia Wilson)</th>\n",
              "      <th>female</th>\n",
              "      <th>56.0</th>\n",
              "      <th>0</th>\n",
              "      <th>1</th>\n",
              "      <th>11767</th>\n",
              "      <th>83.1583</th>\n",
              "      <th>C50</th>\n",
              "      <th>C</th>\n",
              "      <td>1</td>\n",
              "    </tr>\n",
              "    <tr>\n",
              "      <th>888</th>\n",
              "      <th>1</th>\n",
              "      <th>1</th>\n",
              "      <th>Graham, Miss. Margaret Edith</th>\n",
              "      <th>female</th>\n",
              "      <th>19.0</th>\n",
              "      <th>0</th>\n",
              "      <th>0</th>\n",
              "      <th>112053</th>\n",
              "      <th>30.0000</th>\n",
              "      <th>B42</th>\n",
              "      <th>S</th>\n",
              "      <td>1</td>\n",
              "    </tr>\n",
              "    <tr>\n",
              "      <th>890</th>\n",
              "      <th>1</th>\n",
              "      <th>1</th>\n",
              "      <th>Behr, Mr. Karl Howell</th>\n",
              "      <th>male</th>\n",
              "      <th>26.0</th>\n",
              "      <th>0</th>\n",
              "      <th>0</th>\n",
              "      <th>111369</th>\n",
              "      <th>30.0000</th>\n",
              "      <th>C148</th>\n",
              "      <th>C</th>\n",
              "      <td>1</td>\n",
              "    </tr>\n",
              "  </tbody>\n",
              "</table>\n",
              "<p>183 rows × 1 columns</p>\n",
              "</div><br><label><b>dtype:</b> int64</label>"
            ]
          },
          "metadata": {},
          "execution_count": 138
        }
      ],
      "source": [
        "df.value_counts()"
      ]
    },
    {
      "cell_type": "markdown",
      "metadata": {
        "id": "KUBrG8JDz8B4"
      },
      "source": [
        "# Проверка данных на пустые значения"
      ]
    },
    {
      "cell_type": "code",
      "execution_count": 139,
      "metadata": {
        "execution": {
          "iopub.execute_input": "2024-12-13T12:37:06.808124Z",
          "iopub.status.busy": "2024-12-13T12:37:06.807813Z",
          "iopub.status.idle": "2024-12-13T12:37:06.840495Z",
          "shell.execute_reply": "2024-12-13T12:37:06.839319Z",
          "shell.execute_reply.started": "2024-12-13T12:37:06.808092Z"
        },
        "trusted": true,
        "colab": {
          "base_uri": "https://localhost:8080/",
          "height": 301
        },
        "id": "xy3BcXo1z8B4",
        "outputId": "f70df698-d47c-41e4-982f-53ea44397d9c"
      },
      "outputs": [
        {
          "output_type": "execute_result",
          "data": {
            "text/plain": [
              "       PassengerId    Survived      Pclass         Age       SibSp  \\\n",
              "count   891.000000  891.000000  891.000000  714.000000  891.000000   \n",
              "mean    446.000000    0.383838    2.308642   29.699118    0.523008   \n",
              "std     257.353842    0.486592    0.836071   14.526497    1.102743   \n",
              "min       1.000000    0.000000    1.000000    0.420000    0.000000   \n",
              "25%     223.500000    0.000000    2.000000   20.125000    0.000000   \n",
              "50%     446.000000    0.000000    3.000000   28.000000    0.000000   \n",
              "75%     668.500000    1.000000    3.000000   38.000000    1.000000   \n",
              "max     891.000000    1.000000    3.000000   80.000000    8.000000   \n",
              "\n",
              "            Parch        Fare  \n",
              "count  891.000000  891.000000  \n",
              "mean     0.381594   32.204208  \n",
              "std      0.806057   49.693429  \n",
              "min      0.000000    0.000000  \n",
              "25%      0.000000    7.910400  \n",
              "50%      0.000000   14.454200  \n",
              "75%      0.000000   31.000000  \n",
              "max      6.000000  512.329200  "
            ],
            "text/html": [
              "\n",
              "  <div id=\"df-af29e710-29dd-4063-96be-d5d816901a0c\" class=\"colab-df-container\">\n",
              "    <div>\n",
              "<style scoped>\n",
              "    .dataframe tbody tr th:only-of-type {\n",
              "        vertical-align: middle;\n",
              "    }\n",
              "\n",
              "    .dataframe tbody tr th {\n",
              "        vertical-align: top;\n",
              "    }\n",
              "\n",
              "    .dataframe thead th {\n",
              "        text-align: right;\n",
              "    }\n",
              "</style>\n",
              "<table border=\"1\" class=\"dataframe\">\n",
              "  <thead>\n",
              "    <tr style=\"text-align: right;\">\n",
              "      <th></th>\n",
              "      <th>PassengerId</th>\n",
              "      <th>Survived</th>\n",
              "      <th>Pclass</th>\n",
              "      <th>Age</th>\n",
              "      <th>SibSp</th>\n",
              "      <th>Parch</th>\n",
              "      <th>Fare</th>\n",
              "    </tr>\n",
              "  </thead>\n",
              "  <tbody>\n",
              "    <tr>\n",
              "      <th>count</th>\n",
              "      <td>891.000000</td>\n",
              "      <td>891.000000</td>\n",
              "      <td>891.000000</td>\n",
              "      <td>714.000000</td>\n",
              "      <td>891.000000</td>\n",
              "      <td>891.000000</td>\n",
              "      <td>891.000000</td>\n",
              "    </tr>\n",
              "    <tr>\n",
              "      <th>mean</th>\n",
              "      <td>446.000000</td>\n",
              "      <td>0.383838</td>\n",
              "      <td>2.308642</td>\n",
              "      <td>29.699118</td>\n",
              "      <td>0.523008</td>\n",
              "      <td>0.381594</td>\n",
              "      <td>32.204208</td>\n",
              "    </tr>\n",
              "    <tr>\n",
              "      <th>std</th>\n",
              "      <td>257.353842</td>\n",
              "      <td>0.486592</td>\n",
              "      <td>0.836071</td>\n",
              "      <td>14.526497</td>\n",
              "      <td>1.102743</td>\n",
              "      <td>0.806057</td>\n",
              "      <td>49.693429</td>\n",
              "    </tr>\n",
              "    <tr>\n",
              "      <th>min</th>\n",
              "      <td>1.000000</td>\n",
              "      <td>0.000000</td>\n",
              "      <td>1.000000</td>\n",
              "      <td>0.420000</td>\n",
              "      <td>0.000000</td>\n",
              "      <td>0.000000</td>\n",
              "      <td>0.000000</td>\n",
              "    </tr>\n",
              "    <tr>\n",
              "      <th>25%</th>\n",
              "      <td>223.500000</td>\n",
              "      <td>0.000000</td>\n",
              "      <td>2.000000</td>\n",
              "      <td>20.125000</td>\n",
              "      <td>0.000000</td>\n",
              "      <td>0.000000</td>\n",
              "      <td>7.910400</td>\n",
              "    </tr>\n",
              "    <tr>\n",
              "      <th>50%</th>\n",
              "      <td>446.000000</td>\n",
              "      <td>0.000000</td>\n",
              "      <td>3.000000</td>\n",
              "      <td>28.000000</td>\n",
              "      <td>0.000000</td>\n",
              "      <td>0.000000</td>\n",
              "      <td>14.454200</td>\n",
              "    </tr>\n",
              "    <tr>\n",
              "      <th>75%</th>\n",
              "      <td>668.500000</td>\n",
              "      <td>1.000000</td>\n",
              "      <td>3.000000</td>\n",
              "      <td>38.000000</td>\n",
              "      <td>1.000000</td>\n",
              "      <td>0.000000</td>\n",
              "      <td>31.000000</td>\n",
              "    </tr>\n",
              "    <tr>\n",
              "      <th>max</th>\n",
              "      <td>891.000000</td>\n",
              "      <td>1.000000</td>\n",
              "      <td>3.000000</td>\n",
              "      <td>80.000000</td>\n",
              "      <td>8.000000</td>\n",
              "      <td>6.000000</td>\n",
              "      <td>512.329200</td>\n",
              "    </tr>\n",
              "  </tbody>\n",
              "</table>\n",
              "</div>\n",
              "    <div class=\"colab-df-buttons\">\n",
              "\n",
              "  <div class=\"colab-df-container\">\n",
              "    <button class=\"colab-df-convert\" onclick=\"convertToInteractive('df-af29e710-29dd-4063-96be-d5d816901a0c')\"\n",
              "            title=\"Convert this dataframe to an interactive table.\"\n",
              "            style=\"display:none;\">\n",
              "\n",
              "  <svg xmlns=\"http://www.w3.org/2000/svg\" height=\"24px\" viewBox=\"0 -960 960 960\">\n",
              "    <path d=\"M120-120v-720h720v720H120Zm60-500h600v-160H180v160Zm220 220h160v-160H400v160Zm0 220h160v-160H400v160ZM180-400h160v-160H180v160Zm440 0h160v-160H620v160ZM180-180h160v-160H180v160Zm440 0h160v-160H620v160Z\"/>\n",
              "  </svg>\n",
              "    </button>\n",
              "\n",
              "  <style>\n",
              "    .colab-df-container {\n",
              "      display:flex;\n",
              "      gap: 12px;\n",
              "    }\n",
              "\n",
              "    .colab-df-convert {\n",
              "      background-color: #E8F0FE;\n",
              "      border: none;\n",
              "      border-radius: 50%;\n",
              "      cursor: pointer;\n",
              "      display: none;\n",
              "      fill: #1967D2;\n",
              "      height: 32px;\n",
              "      padding: 0 0 0 0;\n",
              "      width: 32px;\n",
              "    }\n",
              "\n",
              "    .colab-df-convert:hover {\n",
              "      background-color: #E2EBFA;\n",
              "      box-shadow: 0px 1px 2px rgba(60, 64, 67, 0.3), 0px 1px 3px 1px rgba(60, 64, 67, 0.15);\n",
              "      fill: #174EA6;\n",
              "    }\n",
              "\n",
              "    .colab-df-buttons div {\n",
              "      margin-bottom: 4px;\n",
              "    }\n",
              "\n",
              "    [theme=dark] .colab-df-convert {\n",
              "      background-color: #3B4455;\n",
              "      fill: #D2E3FC;\n",
              "    }\n",
              "\n",
              "    [theme=dark] .colab-df-convert:hover {\n",
              "      background-color: #434B5C;\n",
              "      box-shadow: 0px 1px 3px 1px rgba(0, 0, 0, 0.15);\n",
              "      filter: drop-shadow(0px 1px 2px rgba(0, 0, 0, 0.3));\n",
              "      fill: #FFFFFF;\n",
              "    }\n",
              "  </style>\n",
              "\n",
              "    <script>\n",
              "      const buttonEl =\n",
              "        document.querySelector('#df-af29e710-29dd-4063-96be-d5d816901a0c button.colab-df-convert');\n",
              "      buttonEl.style.display =\n",
              "        google.colab.kernel.accessAllowed ? 'block' : 'none';\n",
              "\n",
              "      async function convertToInteractive(key) {\n",
              "        const element = document.querySelector('#df-af29e710-29dd-4063-96be-d5d816901a0c');\n",
              "        const dataTable =\n",
              "          await google.colab.kernel.invokeFunction('convertToInteractive',\n",
              "                                                    [key], {});\n",
              "        if (!dataTable) return;\n",
              "\n",
              "        const docLinkHtml = 'Like what you see? Visit the ' +\n",
              "          '<a target=\"_blank\" href=https://colab.research.google.com/notebooks/data_table.ipynb>data table notebook</a>'\n",
              "          + ' to learn more about interactive tables.';\n",
              "        element.innerHTML = '';\n",
              "        dataTable['output_type'] = 'display_data';\n",
              "        await google.colab.output.renderOutput(dataTable, element);\n",
              "        const docLink = document.createElement('div');\n",
              "        docLink.innerHTML = docLinkHtml;\n",
              "        element.appendChild(docLink);\n",
              "      }\n",
              "    </script>\n",
              "  </div>\n",
              "\n",
              "\n",
              "    <div id=\"df-11153870-667a-4c98-9408-590ea4c27f7e\">\n",
              "      <button class=\"colab-df-quickchart\" onclick=\"quickchart('df-11153870-667a-4c98-9408-590ea4c27f7e')\"\n",
              "                title=\"Suggest charts\"\n",
              "                style=\"display:none;\">\n",
              "\n",
              "<svg xmlns=\"http://www.w3.org/2000/svg\" height=\"24px\"viewBox=\"0 0 24 24\"\n",
              "     width=\"24px\">\n",
              "    <g>\n",
              "        <path d=\"M19 3H5c-1.1 0-2 .9-2 2v14c0 1.1.9 2 2 2h14c1.1 0 2-.9 2-2V5c0-1.1-.9-2-2-2zM9 17H7v-7h2v7zm4 0h-2V7h2v10zm4 0h-2v-4h2v4z\"/>\n",
              "    </g>\n",
              "</svg>\n",
              "      </button>\n",
              "\n",
              "<style>\n",
              "  .colab-df-quickchart {\n",
              "      --bg-color: #E8F0FE;\n",
              "      --fill-color: #1967D2;\n",
              "      --hover-bg-color: #E2EBFA;\n",
              "      --hover-fill-color: #174EA6;\n",
              "      --disabled-fill-color: #AAA;\n",
              "      --disabled-bg-color: #DDD;\n",
              "  }\n",
              "\n",
              "  [theme=dark] .colab-df-quickchart {\n",
              "      --bg-color: #3B4455;\n",
              "      --fill-color: #D2E3FC;\n",
              "      --hover-bg-color: #434B5C;\n",
              "      --hover-fill-color: #FFFFFF;\n",
              "      --disabled-bg-color: #3B4455;\n",
              "      --disabled-fill-color: #666;\n",
              "  }\n",
              "\n",
              "  .colab-df-quickchart {\n",
              "    background-color: var(--bg-color);\n",
              "    border: none;\n",
              "    border-radius: 50%;\n",
              "    cursor: pointer;\n",
              "    display: none;\n",
              "    fill: var(--fill-color);\n",
              "    height: 32px;\n",
              "    padding: 0;\n",
              "    width: 32px;\n",
              "  }\n",
              "\n",
              "  .colab-df-quickchart:hover {\n",
              "    background-color: var(--hover-bg-color);\n",
              "    box-shadow: 0 1px 2px rgba(60, 64, 67, 0.3), 0 1px 3px 1px rgba(60, 64, 67, 0.15);\n",
              "    fill: var(--button-hover-fill-color);\n",
              "  }\n",
              "\n",
              "  .colab-df-quickchart-complete:disabled,\n",
              "  .colab-df-quickchart-complete:disabled:hover {\n",
              "    background-color: var(--disabled-bg-color);\n",
              "    fill: var(--disabled-fill-color);\n",
              "    box-shadow: none;\n",
              "  }\n",
              "\n",
              "  .colab-df-spinner {\n",
              "    border: 2px solid var(--fill-color);\n",
              "    border-color: transparent;\n",
              "    border-bottom-color: var(--fill-color);\n",
              "    animation:\n",
              "      spin 1s steps(1) infinite;\n",
              "  }\n",
              "\n",
              "  @keyframes spin {\n",
              "    0% {\n",
              "      border-color: transparent;\n",
              "      border-bottom-color: var(--fill-color);\n",
              "      border-left-color: var(--fill-color);\n",
              "    }\n",
              "    20% {\n",
              "      border-color: transparent;\n",
              "      border-left-color: var(--fill-color);\n",
              "      border-top-color: var(--fill-color);\n",
              "    }\n",
              "    30% {\n",
              "      border-color: transparent;\n",
              "      border-left-color: var(--fill-color);\n",
              "      border-top-color: var(--fill-color);\n",
              "      border-right-color: var(--fill-color);\n",
              "    }\n",
              "    40% {\n",
              "      border-color: transparent;\n",
              "      border-right-color: var(--fill-color);\n",
              "      border-top-color: var(--fill-color);\n",
              "    }\n",
              "    60% {\n",
              "      border-color: transparent;\n",
              "      border-right-color: var(--fill-color);\n",
              "    }\n",
              "    80% {\n",
              "      border-color: transparent;\n",
              "      border-right-color: var(--fill-color);\n",
              "      border-bottom-color: var(--fill-color);\n",
              "    }\n",
              "    90% {\n",
              "      border-color: transparent;\n",
              "      border-bottom-color: var(--fill-color);\n",
              "    }\n",
              "  }\n",
              "</style>\n",
              "\n",
              "      <script>\n",
              "        async function quickchart(key) {\n",
              "          const quickchartButtonEl =\n",
              "            document.querySelector('#' + key + ' button');\n",
              "          quickchartButtonEl.disabled = true;  // To prevent multiple clicks.\n",
              "          quickchartButtonEl.classList.add('colab-df-spinner');\n",
              "          try {\n",
              "            const charts = await google.colab.kernel.invokeFunction(\n",
              "                'suggestCharts', [key], {});\n",
              "          } catch (error) {\n",
              "            console.error('Error during call to suggestCharts:', error);\n",
              "          }\n",
              "          quickchartButtonEl.classList.remove('colab-df-spinner');\n",
              "          quickchartButtonEl.classList.add('colab-df-quickchart-complete');\n",
              "        }\n",
              "        (() => {\n",
              "          let quickchartButtonEl =\n",
              "            document.querySelector('#df-11153870-667a-4c98-9408-590ea4c27f7e button');\n",
              "          quickchartButtonEl.style.display =\n",
              "            google.colab.kernel.accessAllowed ? 'block' : 'none';\n",
              "        })();\n",
              "      </script>\n",
              "    </div>\n",
              "    </div>\n",
              "  </div>\n"
            ],
            "application/vnd.google.colaboratory.intrinsic+json": {
              "type": "dataframe",
              "summary": "{\n  \"name\": \"df\",\n  \"rows\": 8,\n  \"fields\": [\n    {\n      \"column\": \"PassengerId\",\n      \"properties\": {\n        \"dtype\": \"number\",\n        \"std\": 320.8159711429856,\n        \"min\": 1.0,\n        \"max\": 891.0,\n        \"num_unique_values\": 6,\n        \"samples\": [\n          891.0,\n          446.0,\n          668.5\n        ],\n        \"semantic_type\": \"\",\n        \"description\": \"\"\n      }\n    },\n    {\n      \"column\": \"Survived\",\n      \"properties\": {\n        \"dtype\": \"number\",\n        \"std\": 314.8713661874558,\n        \"min\": 0.0,\n        \"max\": 891.0,\n        \"num_unique_values\": 5,\n        \"samples\": [\n          0.3838383838383838,\n          1.0,\n          0.4865924542648585\n        ],\n        \"semantic_type\": \"\",\n        \"description\": \"\"\n      }\n    },\n    {\n      \"column\": \"Pclass\",\n      \"properties\": {\n        \"dtype\": \"number\",\n        \"std\": 314.2523437079693,\n        \"min\": 0.8360712409770513,\n        \"max\": 891.0,\n        \"num_unique_values\": 6,\n        \"samples\": [\n          891.0,\n          2.308641975308642,\n          3.0\n        ],\n        \"semantic_type\": \"\",\n        \"description\": \"\"\n      }\n    },\n    {\n      \"column\": \"Age\",\n      \"properties\": {\n        \"dtype\": \"number\",\n        \"std\": 242.9056731818781,\n        \"min\": 0.42,\n        \"max\": 714.0,\n        \"num_unique_values\": 8,\n        \"samples\": [\n          29.69911764705882,\n          28.0,\n          714.0\n        ],\n        \"semantic_type\": \"\",\n        \"description\": \"\"\n      }\n    },\n    {\n      \"column\": \"SibSp\",\n      \"properties\": {\n        \"dtype\": \"number\",\n        \"std\": 314.4908277465442,\n        \"min\": 0.0,\n        \"max\": 891.0,\n        \"num_unique_values\": 6,\n        \"samples\": [\n          891.0,\n          0.5230078563411896,\n          8.0\n        ],\n        \"semantic_type\": \"\",\n        \"description\": \"\"\n      }\n    },\n    {\n      \"column\": \"Parch\",\n      \"properties\": {\n        \"dtype\": \"number\",\n        \"std\": 314.65971717879,\n        \"min\": 0.0,\n        \"max\": 891.0,\n        \"num_unique_values\": 5,\n        \"samples\": [\n          0.38159371492704824,\n          6.0,\n          0.8060572211299559\n        ],\n        \"semantic_type\": \"\",\n        \"description\": \"\"\n      }\n    },\n    {\n      \"column\": \"Fare\",\n      \"properties\": {\n        \"dtype\": \"number\",\n        \"std\": 330.6256632228577,\n        \"min\": 0.0,\n        \"max\": 891.0,\n        \"num_unique_values\": 8,\n        \"samples\": [\n          32.204207968574636,\n          14.4542,\n          891.0\n        ],\n        \"semantic_type\": \"\",\n        \"description\": \"\"\n      }\n    }\n  ]\n}"
            }
          },
          "metadata": {},
          "execution_count": 139
        }
      ],
      "source": [
        "df.describe()"
      ]
    },
    {
      "cell_type": "code",
      "execution_count": 140,
      "metadata": {
        "execution": {
          "iopub.execute_input": "2024-12-13T12:37:06.841890Z",
          "iopub.status.busy": "2024-12-13T12:37:06.841602Z",
          "iopub.status.idle": "2024-12-13T12:37:06.850000Z",
          "shell.execute_reply": "2024-12-13T12:37:06.848988Z",
          "shell.execute_reply.started": "2024-12-13T12:37:06.841860Z"
        },
        "trusted": true,
        "colab": {
          "base_uri": "https://localhost:8080/",
          "height": 461
        },
        "id": "flO78in1z8B5",
        "outputId": "28402926-aeca-4d92-bb00-28c33fb1eeac"
      },
      "outputs": [
        {
          "output_type": "execute_result",
          "data": {
            "text/plain": [
              "PassengerId      0\n",
              "Survived         0\n",
              "Pclass           0\n",
              "Name             0\n",
              "Sex              0\n",
              "Age            177\n",
              "SibSp            0\n",
              "Parch            0\n",
              "Ticket           0\n",
              "Fare             0\n",
              "Cabin          687\n",
              "Embarked         2\n",
              "dtype: int64"
            ],
            "text/html": [
              "<div>\n",
              "<style scoped>\n",
              "    .dataframe tbody tr th:only-of-type {\n",
              "        vertical-align: middle;\n",
              "    }\n",
              "\n",
              "    .dataframe tbody tr th {\n",
              "        vertical-align: top;\n",
              "    }\n",
              "\n",
              "    .dataframe thead th {\n",
              "        text-align: right;\n",
              "    }\n",
              "</style>\n",
              "<table border=\"1\" class=\"dataframe\">\n",
              "  <thead>\n",
              "    <tr style=\"text-align: right;\">\n",
              "      <th></th>\n",
              "      <th>0</th>\n",
              "    </tr>\n",
              "  </thead>\n",
              "  <tbody>\n",
              "    <tr>\n",
              "      <th>PassengerId</th>\n",
              "      <td>0</td>\n",
              "    </tr>\n",
              "    <tr>\n",
              "      <th>Survived</th>\n",
              "      <td>0</td>\n",
              "    </tr>\n",
              "    <tr>\n",
              "      <th>Pclass</th>\n",
              "      <td>0</td>\n",
              "    </tr>\n",
              "    <tr>\n",
              "      <th>Name</th>\n",
              "      <td>0</td>\n",
              "    </tr>\n",
              "    <tr>\n",
              "      <th>Sex</th>\n",
              "      <td>0</td>\n",
              "    </tr>\n",
              "    <tr>\n",
              "      <th>Age</th>\n",
              "      <td>177</td>\n",
              "    </tr>\n",
              "    <tr>\n",
              "      <th>SibSp</th>\n",
              "      <td>0</td>\n",
              "    </tr>\n",
              "    <tr>\n",
              "      <th>Parch</th>\n",
              "      <td>0</td>\n",
              "    </tr>\n",
              "    <tr>\n",
              "      <th>Ticket</th>\n",
              "      <td>0</td>\n",
              "    </tr>\n",
              "    <tr>\n",
              "      <th>Fare</th>\n",
              "      <td>0</td>\n",
              "    </tr>\n",
              "    <tr>\n",
              "      <th>Cabin</th>\n",
              "      <td>687</td>\n",
              "    </tr>\n",
              "    <tr>\n",
              "      <th>Embarked</th>\n",
              "      <td>2</td>\n",
              "    </tr>\n",
              "  </tbody>\n",
              "</table>\n",
              "</div><br><label><b>dtype:</b> int64</label>"
            ]
          },
          "metadata": {},
          "execution_count": 140
        }
      ],
      "source": [
        "df.isnull().sum()"
      ]
    },
    {
      "cell_type": "code",
      "execution_count": 141,
      "metadata": {
        "execution": {
          "iopub.execute_input": "2024-12-13T12:37:06.852386Z",
          "iopub.status.busy": "2024-12-13T12:37:06.852008Z",
          "iopub.status.idle": "2024-12-13T12:37:06.864803Z",
          "shell.execute_reply": "2024-12-13T12:37:06.863720Z",
          "shell.execute_reply.started": "2024-12-13T12:37:06.852334Z"
        },
        "trusted": true,
        "colab": {
          "base_uri": "https://localhost:8080/"
        },
        "id": "3AyW-g4Uz8B5",
        "outputId": "babd7127-ac87-4758-fc38-fbd8498ccc8f"
      },
      "outputs": [
        {
          "output_type": "stream",
          "name": "stdout",
          "text": [
            "<class 'pandas.core.frame.DataFrame'>\n",
            "RangeIndex: 891 entries, 0 to 890\n",
            "Data columns (total 12 columns):\n",
            " #   Column       Non-Null Count  Dtype  \n",
            "---  ------       --------------  -----  \n",
            " 0   PassengerId  891 non-null    int64  \n",
            " 1   Survived     891 non-null    int64  \n",
            " 2   Pclass       891 non-null    int64  \n",
            " 3   Name         891 non-null    object \n",
            " 4   Sex          891 non-null    object \n",
            " 5   Age          714 non-null    float64\n",
            " 6   SibSp        891 non-null    int64  \n",
            " 7   Parch        891 non-null    int64  \n",
            " 8   Ticket       891 non-null    object \n",
            " 9   Fare         891 non-null    float64\n",
            " 10  Cabin        204 non-null    object \n",
            " 11  Embarked     889 non-null    object \n",
            "dtypes: float64(2), int64(5), object(5)\n",
            "memory usage: 83.7+ KB\n"
          ]
        }
      ],
      "source": [
        "df.info()"
      ]
    },
    {
      "cell_type": "markdown",
      "metadata": {
        "id": "QWz-Scpgz8B5"
      },
      "source": [
        "# Исследования на разные критерии"
      ]
    },
    {
      "cell_type": "markdown",
      "metadata": {
        "id": "P3neg_PRz8B7"
      },
      "source": [
        "### Исследование зависимости от возраста"
      ]
    },
    {
      "cell_type": "code",
      "execution_count": 142,
      "metadata": {
        "execution": {
          "iopub.execute_input": "2024-12-13T12:37:07.212035Z",
          "iopub.status.busy": "2024-12-13T12:37:07.211600Z",
          "iopub.status.idle": "2024-12-13T12:37:07.492250Z",
          "shell.execute_reply": "2024-12-13T12:37:07.491320Z",
          "shell.execute_reply.started": "2024-12-13T12:37:07.211991Z"
        },
        "trusted": true,
        "colab": {
          "base_uri": "https://localhost:8080/",
          "height": 472
        },
        "id": "OLCrCoKKz8B7",
        "outputId": "9b44b822-cabd-46dc-b0a3-44dbdc15e41d"
      },
      "outputs": [
        {
          "output_type": "display_data",
          "data": {
            "text/plain": [
              "<Figure size 640x480 with 1 Axes>"
            ],
            "image/png": "[encoded data removed]"
          },
          "metadata": {}
        }
      ],
      "source": [
        "df['Age'] = df['Age'].fillna(df['Age'].median())\n",
        "\n",
        "sns.kdeplot(data=df, x=\"Age\", hue=\"Survived\", fill=True)\n",
        "plt.title(\"Исследование влияния возраста на выживаемость пассажиров\")\n",
        "plt.show()"
      ]
    },
    {
      "cell_type": "markdown",
      "metadata": {
        "id": "3L44i_nNz8B7"
      },
      "source": [
        "Люди в возрасте примерно 30 лет имели более высокие шансы на выживание, в том числе и дети, которых на борту было не очень много"
      ]
    },
    {
      "cell_type": "markdown",
      "metadata": {
        "id": "T4ES7GOoz8B5"
      },
      "source": [
        "### Исследование зависимости от пола"
      ]
    },
    {
      "cell_type": "code",
      "execution_count": 143,
      "metadata": {
        "execution": {
          "iopub.execute_input": "2024-12-13T12:37:06.866558Z",
          "iopub.status.busy": "2024-12-13T12:37:06.866161Z",
          "iopub.status.idle": "2024-12-13T12:37:07.210077Z",
          "shell.execute_reply": "2024-12-13T12:37:07.209138Z",
          "shell.execute_reply.started": "2024-12-13T12:37:06.866516Z"
        },
        "trusted": true,
        "colab": {
          "base_uri": "https://localhost:8080/",
          "height": 529
        },
        "id": "lKiSWozAz8B6",
        "outputId": "bee23525-d495-474c-90ff-706919911c22"
      },
      "outputs": [
        {
          "output_type": "display_data",
          "data": {
            "text/plain": [
              "<Figure size 572.111x500 with 1 Axes>"
            ],
            "image/png": "[encoded data removed]"
          },
          "metadata": {}
        }
      ],
      "source": [
        "sns.catplot(x=\"Sex\", hue=\"Survived\", kind=\"count\", data=df)\n",
        "plt.title(\"Исследование влияния пола на выживаемость пассажиров\")\n",
        "plt.show()"
      ]
    },
    {
      "cell_type": "markdown",
      "metadata": {
        "id": "mSLGJqf9z8B7"
      },
      "source": [
        "Показатель выживаемости у женщин гораздо выше чем у мужчин"
      ]
    },
    {
      "cell_type": "markdown",
      "source": [
        "В том числе показатель смертности в несколько раз выше у мужчин нежели женщин"
      ],
      "metadata": {
        "id": "lZdUAGECSfqt"
      }
    },
    {
      "cell_type": "markdown",
      "metadata": {
        "id": "Op5V9zTqz8B8"
      },
      "source": [
        "### Исследование зависимости от количества членов семьи"
      ]
    },
    {
      "cell_type": "code",
      "execution_count": 144,
      "metadata": {
        "execution": {
          "iopub.execute_input": "2024-12-13T12:37:08.256276Z",
          "iopub.status.busy": "2024-12-13T12:37:08.255936Z",
          "iopub.status.idle": "2024-12-13T12:37:08.645273Z",
          "shell.execute_reply": "2024-12-13T12:37:08.644272Z",
          "shell.execute_reply.started": "2024-12-13T12:37:08.256244Z"
        },
        "trusted": true,
        "colab": {
          "base_uri": "https://localhost:8080/",
          "height": 529
        },
        "id": "Rwt5pgVaz8B8",
        "outputId": "464fe8d4-3b72-498d-f729-756ff33ac840"
      },
      "outputs": [
        {
          "output_type": "display_data",
          "data": {
            "text/plain": [
              "<Figure size 572.111x500 with 1 Axes>"
            ],
            "image/png": "[encoded data removed]"
          },
          "metadata": {}
        }
      ],
      "source": [
        "df['Family_Size'] = df['SibSp'] + df['Parch']\n",
        "\n",
        "sns.catplot(x=\"Family_Size\", hue=\"Survived\", kind=\"count\", data=df)\n",
        "plt.title(\"Исследование влияния колличества членов семьи на выживаемость пассажиров\")\n",
        "plt.show()"
      ]
    },
    {
      "cell_type": "markdown",
      "metadata": {
        "id": "1-6tKI2Jz8B8"
      },
      "source": [
        "Люди без семьи и с семьей из одного, двух или трёх человек выживали значительно чаще других\n",
        "Вывод: лучше быть одному, без семьи, на тонущем корабле"
      ]
    },
    {
      "cell_type": "markdown",
      "metadata": {
        "id": "c3u2GzSlz8B7"
      },
      "source": [
        "### Исследование зависимости от класса"
      ]
    },
    {
      "cell_type": "code",
      "execution_count": 145,
      "metadata": {
        "execution": {
          "iopub.execute_input": "2024-12-13T12:37:07.493975Z",
          "iopub.status.busy": "2024-12-13T12:37:07.493694Z",
          "iopub.status.idle": "2024-12-13T12:37:07.869105Z",
          "shell.execute_reply": "2024-12-13T12:37:07.867999Z",
          "shell.execute_reply.started": "2024-12-13T12:37:07.493947Z"
        },
        "trusted": true,
        "colab": {
          "base_uri": "https://localhost:8080/",
          "height": 529
        },
        "id": "CD3HxLtxz8B7",
        "outputId": "f4882f06-3d65-4875-d8f6-79a64087e988"
      },
      "outputs": [
        {
          "output_type": "display_data",
          "data": {
            "text/plain": [
              "<Figure size 572.111x500 with 1 Axes>"
            ],
            "image/png": "[encoded data removed]"
          },
          "metadata": {}
        }
      ],
      "source": [
        "sns.catplot(x=\"Pclass\", hue=\"Survived\", kind=\"count\", data=df)\n",
        "plt.title(\"Исследование влияния класса каюты на выживаемость пассажиров\")\n",
        "plt.show()"
      ]
    },
    {
      "cell_type": "markdown",
      "metadata": {
        "id": "KEyXn6p9z8B7"
      },
      "source": [
        "В 1 классе шанс выжить ~ 138%  \n",
        "Во 2 ~100%  \n",
        "В 3 ~ 125%"
      ]
    },
    {
      "cell_type": "markdown",
      "metadata": {
        "id": "N9Aes8Tsz8B8"
      },
      "source": [
        "### Исследование зависимости от платы"
      ]
    },
    {
      "cell_type": "code",
      "execution_count": 146,
      "metadata": {
        "execution": {
          "iopub.execute_input": "2024-12-13T12:37:08.647411Z",
          "iopub.status.busy": "2024-12-13T12:37:08.646684Z",
          "iopub.status.idle": "2024-12-13T12:37:08.974562Z",
          "shell.execute_reply": "2024-12-13T12:37:08.973595Z",
          "shell.execute_reply.started": "2024-12-13T12:37:08.647364Z"
        },
        "trusted": true,
        "colab": {
          "base_uri": "https://localhost:8080/",
          "height": 472
        },
        "id": "4QPCxQe2z8B8",
        "outputId": "a0827f9b-4427-4779-9375-bd8613a5bb96"
      },
      "outputs": [
        {
          "output_type": "display_data",
          "data": {
            "text/plain": [
              "<Figure size 640x480 with 1 Axes>"
            ],
            "image/png": "[encoded data removed]"
          },
          "metadata": {}
        }
      ],
      "source": [
        "df['Fare'] = df['Fare'].fillna(df['Fare'].median())\n",
        "\n",
        "sns.kdeplot(x=\"Fare\", hue=\"Survived\", data=df, fill=True)\n",
        "plt.title(\"Исследование влияния колличества платы на выживаемость пассажиров\")\n",
        "plt.show()"
      ]
    },
    {
      "cell_type": "markdown",
      "metadata": {
        "id": "gNpFueP-z8B8"
      },
      "source": [
        "Чем дороже билет, тем выше вероятность выживания — отчасти благодаря привилегиям класса обслуживания"
      ]
    },
    {
      "cell_type": "markdown",
      "metadata": {
        "id": "dIJSO67vz8B7"
      },
      "source": [
        "### Исследование Зависимости от порта"
      ]
    },
    {
      "cell_type": "code",
      "execution_count": 147,
      "metadata": {
        "execution": {
          "iopub.execute_input": "2024-12-13T12:37:07.873349Z",
          "iopub.status.busy": "2024-12-13T12:37:07.872930Z",
          "iopub.status.idle": "2024-12-13T12:37:08.254543Z",
          "shell.execute_reply": "2024-12-13T12:37:08.253537Z",
          "shell.execute_reply.started": "2024-12-13T12:37:07.873314Z"
        },
        "trusted": true,
        "colab": {
          "base_uri": "https://localhost:8080/",
          "height": 529
        },
        "id": "rU3bRn6sz8B7",
        "outputId": "9b30aca4-d7ff-47e9-84b9-35647df23fa9"
      },
      "outputs": [
        {
          "output_type": "display_data",
          "data": {
            "text/plain": [
              "<Figure size 572.111x500 with 1 Axes>"
            ],
            "image/png": "[encoded data removed]"
          },
          "metadata": {}
        }
      ],
      "source": [
        "sns.catplot(x=\"Embarked\", hue=\"Survived\", kind=\"count\", data=df)\n",
        "plt.title(\"Исследование влияния порта посадки на выживаемость пассажиров\")\n",
        "plt.show()"
      ]
    },
    {
      "cell_type": "markdown",
      "metadata": {
        "id": "TGy2cbanz8B8"
      },
      "source": [
        "Люди севшие в порте S имели большие шансы"
      ]
    },
    {
      "cell_type": "markdown",
      "metadata": {
        "id": "GCy7AJgjz8B8"
      },
      "source": [
        "### Исследование зависимости от статуса"
      ]
    },
    {
      "cell_type": "code",
      "execution_count": 148,
      "metadata": {
        "execution": {
          "iopub.execute_input": "2024-12-13T12:37:08.976439Z",
          "iopub.status.busy": "2024-12-13T12:37:08.976007Z",
          "iopub.status.idle": "2024-12-13T12:37:08.988023Z",
          "shell.execute_reply": "2024-12-13T12:37:08.987006Z",
          "shell.execute_reply.started": "2024-12-13T12:37:08.976392Z"
        },
        "trusted": true,
        "id": "JFCd1NI6z8B8"
      },
      "outputs": [],
      "source": [
        "df['Status']  = df['Name'].map(lambda x: re.sub(r\".*(M[A-z]{,3}|Rev|Dr|Major|Master|Lady|Sir|Col|Capt|Countess|Don|Jonkheer)\\..*\", r\"\\1\", x))"
      ]
    },
    {
      "cell_type": "code",
      "execution_count": 149,
      "metadata": {
        "execution": {
          "iopub.execute_input": "2024-12-13T12:37:08.990182Z",
          "iopub.status.busy": "2024-12-13T12:37:08.989516Z",
          "iopub.status.idle": "2024-12-13T12:37:09.000714Z",
          "shell.execute_reply": "2024-12-13T12:37:08.999656Z",
          "shell.execute_reply.started": "2024-12-13T12:37:08.990113Z"
        },
        "trusted": true,
        "colab": {
          "base_uri": "https://localhost:8080/"
        },
        "id": "xDTLFrxHz8B8",
        "outputId": "62b43876-37da-436f-9f69-a0d8d1577c57"
      },
      "outputs": [
        {
          "output_type": "execute_result",
          "data": {
            "text/plain": [
              "array(['Mr', 'Mrs', 'Miss', 'Master', 'Don', 'Rev', 'Dr', 'Mme', 'Ms',\n",
              "       'Major', 'Lady', 'Sir', 'Mlle', 'Col', 'Capt', 'Countess',\n",
              "       'Jonkheer'], dtype=object)"
            ]
          },
          "metadata": {},
          "execution_count": 149
        }
      ],
      "source": [
        "df['Status'].unique()"
      ]
    },
    {
      "cell_type": "code",
      "execution_count": 150,
      "metadata": {
        "execution": {
          "iopub.execute_input": "2024-12-13T12:37:09.002864Z",
          "iopub.status.busy": "2024-12-13T12:37:09.002446Z",
          "iopub.status.idle": "2024-12-13T12:37:09.496396Z",
          "shell.execute_reply": "2024-12-13T12:37:09.495455Z",
          "shell.execute_reply.started": "2024-12-13T12:37:09.002819Z"
        },
        "trusted": true,
        "colab": {
          "base_uri": "https://localhost:8080/",
          "height": 529
        },
        "id": "vy1jgW4Vz8B8",
        "outputId": "a6635738-fa97-496f-d027-edccb410576f"
      },
      "outputs": [
        {
          "output_type": "display_data",
          "data": {
            "text/plain": [
              "<Figure size 1311.11x500 with 1 Axes>"
            ],
            "image/png": "[encoded data removed]"
          },
          "metadata": {}
        }
      ],
      "source": [
        "sns.catplot(\n",
        "    data=df,\n",
        "    x='Status',\n",
        "    y='Survived',\n",
        "    kind='bar',\n",
        "    height=5,\n",
        "    aspect=2.6,\n",
        ").set(\n",
        "    title=\"Исследование влияния статуса на выживаемость пассажиров\"\n",
        ")\n",
        "\n",
        "plt.show()"
      ]
    },
    {
      "cell_type": "markdown",
      "metadata": {
        "id": "r6JLR0IIz8B8"
      },
      "source": [
        "Высокий социальный статус связан с приобретением дорогих билетов и доступом к премиальному классу обслуживания, что напрямую повышает вероятность выживания"
      ]
    },
    {
      "cell_type": "markdown",
      "metadata": {
        "id": "dACM5G8Ez8B9"
      },
      "source": [
        "### Количество пассажиров в зависимости от Статуса"
      ]
    },
    {
      "cell_type": "code",
      "execution_count": 151,
      "metadata": {
        "execution": {
          "iopub.execute_input": "2024-12-13T12:37:09.995838Z",
          "iopub.status.busy": "2024-12-13T12:37:09.995425Z",
          "iopub.status.idle": "2024-12-13T12:37:10.012091Z",
          "shell.execute_reply": "2024-12-13T12:37:10.011053Z",
          "shell.execute_reply.started": "2024-12-13T12:37:09.995794Z"
        },
        "trusted": true,
        "colab": {
          "base_uri": "https://localhost:8080/",
          "height": 614
        },
        "id": "EdWZX0Puz8B9",
        "outputId": "9c29d910-a90f-4b8a-a9c1-58229c21f75c"
      },
      "outputs": [
        {
          "output_type": "execute_result",
          "data": {
            "text/plain": [
              "          count\n",
              "Status         \n",
              "Mr          517\n",
              "Miss        182\n",
              "Mrs         125\n",
              "Master       40\n",
              "Dr            7\n",
              "Rev           6\n",
              "Mlle          2\n",
              "Major         2\n",
              "Col           2\n",
              "Capt          1\n",
              "Lady          1\n",
              "Countess      1\n",
              "Don           1\n",
              "Jonkheer      1\n",
              "Mme           1\n",
              "Ms            1\n",
              "Sir           1"
            ],
            "text/html": [
              "\n",
              "  <div id=\"df-366810c6-3792-47ae-94b3-8c164ed97e93\" class=\"colab-df-container\">\n",
              "    <div>\n",
              "<style scoped>\n",
              "    .dataframe tbody tr th:only-of-type {\n",
              "        vertical-align: middle;\n",
              "    }\n",
              "\n",
              "    .dataframe tbody tr th {\n",
              "        vertical-align: top;\n",
              "    }\n",
              "\n",
              "    .dataframe thead th {\n",
              "        text-align: right;\n",
              "    }\n",
              "</style>\n",
              "<table border=\"1\" class=\"dataframe\">\n",
              "  <thead>\n",
              "    <tr style=\"text-align: right;\">\n",
              "      <th></th>\n",
              "      <th>count</th>\n",
              "    </tr>\n",
              "    <tr>\n",
              "      <th>Status</th>\n",
              "      <th></th>\n",
              "    </tr>\n",
              "  </thead>\n",
              "  <tbody>\n",
              "    <tr>\n",
              "      <th>Mr</th>\n",
              "      <td>517</td>\n",
              "    </tr>\n",
              "    <tr>\n",
              "      <th>Miss</th>\n",
              "      <td>182</td>\n",
              "    </tr>\n",
              "    <tr>\n",
              "      <th>Mrs</th>\n",
              "      <td>125</td>\n",
              "    </tr>\n",
              "    <tr>\n",
              "      <th>Master</th>\n",
              "      <td>40</td>\n",
              "    </tr>\n",
              "    <tr>\n",
              "      <th>Dr</th>\n",
              "      <td>7</td>\n",
              "    </tr>\n",
              "    <tr>\n",
              "      <th>Rev</th>\n",
              "      <td>6</td>\n",
              "    </tr>\n",
              "    <tr>\n",
              "      <th>Mlle</th>\n",
              "      <td>2</td>\n",
              "    </tr>\n",
              "    <tr>\n",
              "      <th>Major</th>\n",
              "      <td>2</td>\n",
              "    </tr>\n",
              "    <tr>\n",
              "      <th>Col</th>\n",
              "      <td>2</td>\n",
              "    </tr>\n",
              "    <tr>\n",
              "      <th>Capt</th>\n",
              "      <td>1</td>\n",
              "    </tr>\n",
              "    <tr>\n",
              "      <th>Lady</th>\n",
              "      <td>1</td>\n",
              "    </tr>\n",
              "    <tr>\n",
              "      <th>Countess</th>\n",
              "      <td>1</td>\n",
              "    </tr>\n",
              "    <tr>\n",
              "      <th>Don</th>\n",
              "      <td>1</td>\n",
              "    </tr>\n",
              "    <tr>\n",
              "      <th>Jonkheer</th>\n",
              "      <td>1</td>\n",
              "    </tr>\n",
              "    <tr>\n",
              "      <th>Mme</th>\n",
              "      <td>1</td>\n",
              "    </tr>\n",
              "    <tr>\n",
              "      <th>Ms</th>\n",
              "      <td>1</td>\n",
              "    </tr>\n",
              "    <tr>\n",
              "      <th>Sir</th>\n",
              "      <td>1</td>\n",
              "    </tr>\n",
              "  </tbody>\n",
              "</table>\n",
              "</div>\n",
              "    <div class=\"colab-df-buttons\">\n",
              "\n",
              "  <div class=\"colab-df-container\">\n",
              "    <button class=\"colab-df-convert\" onclick=\"convertToInteractive('df-366810c6-3792-47ae-94b3-8c164ed97e93')\"\n",
              "            title=\"Convert this dataframe to an interactive table.\"\n",
              "            style=\"display:none;\">\n",
              "\n",
              "  <svg xmlns=\"http://www.w3.org/2000/svg\" height=\"24px\" viewBox=\"0 -960 960 960\">\n",
              "    <path d=\"M120-120v-720h720v720H120Zm60-500h600v-160H180v160Zm220 220h160v-160H400v160Zm0 220h160v-160H400v160ZM180-400h160v-160H180v160Zm440 0h160v-160H620v160ZM180-180h160v-160H180v160Zm440 0h160v-160H620v160Z\"/>\n",
              "  </svg>\n",
              "    </button>\n",
              "\n",
              "  <style>\n",
              "    .colab-df-container {\n",
              "      display:flex;\n",
              "      gap: 12px;\n",
              "    }\n",
              "\n",
              "    .colab-df-convert {\n",
              "      background-color: #E8F0FE;\n",
              "      border: none;\n",
              "      border-radius: 50%;\n",
              "      cursor: pointer;\n",
              "      display: none;\n",
              "      fill: #1967D2;\n",
              "      height: 32px;\n",
              "      padding: 0 0 0 0;\n",
              "      width: 32px;\n",
              "    }\n",
              "\n",
              "    .colab-df-convert:hover {\n",
              "      background-color: #E2EBFA;\n",
              "      box-shadow: 0px 1px 2px rgba(60, 64, 67, 0.3), 0px 1px 3px 1px rgba(60, 64, 67, 0.15);\n",
              "      fill: #174EA6;\n",
              "    }\n",
              "\n",
              "    .colab-df-buttons div {\n",
              "      margin-bottom: 4px;\n",
              "    }\n",
              "\n",
              "    [theme=dark] .colab-df-convert {\n",
              "      background-color: #3B4455;\n",
              "      fill: #D2E3FC;\n",
              "    }\n",
              "\n",
              "    [theme=dark] .colab-df-convert:hover {\n",
              "      background-color: #434B5C;\n",
              "      box-shadow: 0px 1px 3px 1px rgba(0, 0, 0, 0.15);\n",
              "      filter: drop-shadow(0px 1px 2px rgba(0, 0, 0, 0.3));\n",
              "      fill: #FFFFFF;\n",
              "    }\n",
              "  </style>\n",
              "\n",
              "    <script>\n",
              "      const buttonEl =\n",
              "        document.querySelector('#df-366810c6-3792-47ae-94b3-8c164ed97e93 button.colab-df-convert');\n",
              "      buttonEl.style.display =\n",
              "        google.colab.kernel.accessAllowed ? 'block' : 'none';\n",
              "\n",
              "      async function convertToInteractive(key) {\n",
              "        const element = document.querySelector('#df-366810c6-3792-47ae-94b3-8c164ed97e93');\n",
              "        const dataTable =\n",
              "          await google.colab.kernel.invokeFunction('convertToInteractive',\n",
              "                                                    [key], {});\n",
              "        if (!dataTable) return;\n",
              "\n",
              "        const docLinkHtml = 'Like what you see? Visit the ' +\n",
              "          '<a target=\"_blank\" href=https://colab.research.google.com/notebooks/data_table.ipynb>data table notebook</a>'\n",
              "          + ' to learn more about interactive tables.';\n",
              "        element.innerHTML = '';\n",
              "        dataTable['output_type'] = 'display_data';\n",
              "        await google.colab.output.renderOutput(dataTable, element);\n",
              "        const docLink = document.createElement('div');\n",
              "        docLink.innerHTML = docLinkHtml;\n",
              "        element.appendChild(docLink);\n",
              "      }\n",
              "    </script>\n",
              "  </div>\n",
              "\n",
              "\n",
              "    <div id=\"df-e57405cc-6a4d-45a3-bcfd-899690259422\">\n",
              "      <button class=\"colab-df-quickchart\" onclick=\"quickchart('df-e57405cc-6a4d-45a3-bcfd-899690259422')\"\n",
              "                title=\"Suggest charts\"\n",
              "                style=\"display:none;\">\n",
              "\n",
              "<svg xmlns=\"http://www.w3.org/2000/svg\" height=\"24px\"viewBox=\"0 0 24 24\"\n",
              "     width=\"24px\">\n",
              "    <g>\n",
              "        <path d=\"M19 3H5c-1.1 0-2 .9-2 2v14c0 1.1.9 2 2 2h14c1.1 0 2-.9 2-2V5c0-1.1-.9-2-2-2zM9 17H7v-7h2v7zm4 0h-2V7h2v10zm4 0h-2v-4h2v4z\"/>\n",
              "    </g>\n",
              "</svg>\n",
              "      </button>\n",
              "\n",
              "<style>\n",
              "  .colab-df-quickchart {\n",
              "      --bg-color: #E8F0FE;\n",
              "      --fill-color: #1967D2;\n",
              "      --hover-bg-color: #E2EBFA;\n",
              "      --hover-fill-color: #174EA6;\n",
              "      --disabled-fill-color: #AAA;\n",
              "      --disabled-bg-color: #DDD;\n",
              "  }\n",
              "\n",
              "  [theme=dark] .colab-df-quickchart {\n",
              "      --bg-color: #3B4455;\n",
              "      --fill-color: #D2E3FC;\n",
              "      --hover-bg-color: #434B5C;\n",
              "      --hover-fill-color: #FFFFFF;\n",
              "      --disabled-bg-color: #3B4455;\n",
              "      --disabled-fill-color: #666;\n",
              "  }\n",
              "\n",
              "  .colab-df-quickchart {\n",
              "    background-color: var(--bg-color);\n",
              "    border: none;\n",
              "    border-radius: 50%;\n",
              "    cursor: pointer;\n",
              "    display: none;\n",
              "    fill: var(--fill-color);\n",
              "    height: 32px;\n",
              "    padding: 0;\n",
              "    width: 32px;\n",
              "  }\n",
              "\n",
              "  .colab-df-quickchart:hover {\n",
              "    background-color: var(--hover-bg-color);\n",
              "    box-shadow: 0 1px 2px rgba(60, 64, 67, 0.3), 0 1px 3px 1px rgba(60, 64, 67, 0.15);\n",
              "    fill: var(--button-hover-fill-color);\n",
              "  }\n",
              "\n",
              "  .colab-df-quickchart-complete:disabled,\n",
              "  .colab-df-quickchart-complete:disabled:hover {\n",
              "    background-color: var(--disabled-bg-color);\n",
              "    fill: var(--disabled-fill-color);\n",
              "    box-shadow: none;\n",
              "  }\n",
              "\n",
              "  .colab-df-spinner {\n",
              "    border: 2px solid var(--fill-color);\n",
              "    border-color: transparent;\n",
              "    border-bottom-color: var(--fill-color);\n",
              "    animation:\n",
              "      spin 1s steps(1) infinite;\n",
              "  }\n",
              "\n",
              "  @keyframes spin {\n",
              "    0% {\n",
              "      border-color: transparent;\n",
              "      border-bottom-color: var(--fill-color);\n",
              "      border-left-color: var(--fill-color);\n",
              "    }\n",
              "    20% {\n",
              "      border-color: transparent;\n",
              "      border-left-color: var(--fill-color);\n",
              "      border-top-color: var(--fill-color);\n",
              "    }\n",
              "    30% {\n",
              "      border-color: transparent;\n",
              "      border-left-color: var(--fill-color);\n",
              "      border-top-color: var(--fill-color);\n",
              "      border-right-color: var(--fill-color);\n",
              "    }\n",
              "    40% {\n",
              "      border-color: transparent;\n",
              "      border-right-color: var(--fill-color);\n",
              "      border-top-color: var(--fill-color);\n",
              "    }\n",
              "    60% {\n",
              "      border-color: transparent;\n",
              "      border-right-color: var(--fill-color);\n",
              "    }\n",
              "    80% {\n",
              "      border-color: transparent;\n",
              "      border-right-color: var(--fill-color);\n",
              "      border-bottom-color: var(--fill-color);\n",
              "    }\n",
              "    90% {\n",
              "      border-color: transparent;\n",
              "      border-bottom-color: var(--fill-color);\n",
              "    }\n",
              "  }\n",
              "</style>\n",
              "\n",
              "      <script>\n",
              "        async function quickchart(key) {\n",
              "          const quickchartButtonEl =\n",
              "            document.querySelector('#' + key + ' button');\n",
              "          quickchartButtonEl.disabled = true;  // To prevent multiple clicks.\n",
              "          quickchartButtonEl.classList.add('colab-df-spinner');\n",
              "          try {\n",
              "            const charts = await google.colab.kernel.invokeFunction(\n",
              "                'suggestCharts', [key], {});\n",
              "          } catch (error) {\n",
              "            console.error('Error during call to suggestCharts:', error);\n",
              "          }\n",
              "          quickchartButtonEl.classList.remove('colab-df-spinner');\n",
              "          quickchartButtonEl.classList.add('colab-df-quickchart-complete');\n",
              "        }\n",
              "        (() => {\n",
              "          let quickchartButtonEl =\n",
              "            document.querySelector('#df-e57405cc-6a4d-45a3-bcfd-899690259422 button');\n",
              "          quickchartButtonEl.style.display =\n",
              "            google.colab.kernel.accessAllowed ? 'block' : 'none';\n",
              "        })();\n",
              "      </script>\n",
              "    </div>\n",
              "    </div>\n",
              "  </div>\n"
            ],
            "application/vnd.google.colaboratory.intrinsic+json": {
              "type": "dataframe",
              "summary": "{\n  \"name\": \"df\",\n  \"rows\": 17,\n  \"fields\": [\n    {\n      \"column\": \"Status\",\n      \"properties\": {\n        \"dtype\": \"string\",\n        \"num_unique_values\": 17,\n        \"samples\": [\n          \"Mr\",\n          \"Miss\",\n          \"Rev\"\n        ],\n        \"semantic_type\": \"\",\n        \"description\": \"\"\n      }\n    },\n    {\n      \"column\": \"count\",\n      \"properties\": {\n        \"dtype\": \"number\",\n        \"std\": 130,\n        \"min\": 1,\n        \"max\": 517,\n        \"num_unique_values\": 8,\n        \"samples\": [\n          182,\n          6,\n          517\n        ],\n        \"semantic_type\": \"\",\n        \"description\": \"\"\n      }\n    }\n  ]\n}"
            }
          },
          "metadata": {},
          "execution_count": 151
        }
      ],
      "source": [
        "df.groupby(\"Status\").agg(count=(\"Name\", \"count\")).sort_values(\"count\", ascending=False)"
      ]
    },
    {
      "cell_type": "markdown",
      "metadata": {
        "id": "RjJHafw4z8B9"
      },
      "source": [
        "# Feature Engineering"
      ]
    },
    {
      "cell_type": "markdown",
      "metadata": {
        "id": "mAQcqj8Jz8B9"
      },
      "source": [
        "Так как Family_Size = SibSp + Parch, они сильно коррелируют, поэтому мы уберем эти две колонки"
      ]
    },
    {
      "cell_type": "markdown",
      "metadata": {
        "id": "3uSFbZmrz8B9"
      },
      "source": [
        "### Создаем колонку с размером семьи"
      ]
    },
    {
      "cell_type": "code",
      "execution_count": 152,
      "metadata": {
        "id": "Sy37xQbAz8B9"
      },
      "outputs": [],
      "source": [
        "df['Family_Size'] = df['SibSp'] + df['Parch']"
      ]
    },
    {
      "cell_type": "markdown",
      "metadata": {
        "id": "8NsLkGvSz8B9"
      },
      "source": [
        "### Правки  \n",
        "*  PassengerId: Порядковый номер пассажира. Не несёт аналитической ценности, так как является уникальным идентификатором.\n",
        "\n",
        "*  Name: Исключён из анализа. Из имени уже извлечён статус (например, «Mr», «Miss»), который будет использоваться в модели.\n",
        "\n",
        "* Cabin: Пропуски в 77% записей (204 из 890). Из-за недостатка данных столбец требует дополнительной обработки (например, категоризация по наличию/отсутствию каюты) или исключения.\n",
        "\n",
        "* Проблема с билетами (Ticket):\n",
        "Данные в столбце разнородны (например, буквенно-цифровые коды), что усложняет их интерпретацию. разделим на имеющие билеты и на безбилетников\n"
      ]
    },
    {
      "cell_type": "code",
      "execution_count": 153,
      "metadata": {
        "id": "_3mZ_3-Jz8B9"
      },
      "outputs": [],
      "source": [
        "df = df.drop(['PassengerId', 'Name', 'Cabin'], axis=1)"
      ]
    },
    {
      "cell_type": "code",
      "execution_count": 154,
      "metadata": {
        "id": "-H2Mte_7z8B9"
      },
      "outputs": [],
      "source": [
        "def encode_series(le, series):\n",
        "    series = le.fit_transform(series)"
      ]
    },
    {
      "cell_type": "code",
      "execution_count": 155,
      "metadata": {
        "id": "FSCueV7wz8B9"
      },
      "outputs": [],
      "source": [
        "from sklearn.preprocessing import LabelEncoder\n",
        "\n",
        "le = LabelEncoder()\n",
        "df['Sex'] = le.fit_transform(df['Sex'])\n",
        "df['Status'] = le.fit_transform(df['Status'])\n",
        "df['Embarked'] = le.fit_transform(df['Embarked'])\n",
        "df['Ticket'] = le.fit_transform(df['Ticket'])"
      ]
    },
    {
      "cell_type": "markdown",
      "source": [
        "### Вычислиение попарной корреляции столбцов, исключая пропущенные (NA) и нулевые (null) значения"
      ],
      "metadata": {
        "id": "7OCoXCvPj6uM"
      }
    },
    {
      "cell_type": "code",
      "execution_count": 156,
      "metadata": {
        "colab": {
          "base_uri": "https://localhost:8080/",
          "height": 395
        },
        "id": "hceNAxp3z8B9",
        "outputId": "a83e368d-0a07-4753-89e7-298184b803fb"
      },
      "outputs": [
        {
          "output_type": "execute_result",
          "data": {
            "text/plain": [
              "             Survived    Pclass       Sex       Age     SibSp     Parch  \\\n",
              "Survived     1.000000 -0.338481 -0.543351 -0.064910 -0.035322  0.081629   \n",
              "Pclass      -0.338481  1.000000  0.131900 -0.339898  0.083081  0.018443   \n",
              "Sex         -0.543351  0.131900  1.000000  0.081163 -0.114631 -0.245489   \n",
              "Age         -0.064910 -0.339898  0.081163  1.000000 -0.233296 -0.172482   \n",
              "SibSp       -0.035322  0.083081 -0.114631 -0.233296  1.000000  0.414838   \n",
              "Parch        0.081629  0.018443 -0.245489 -0.172482  0.414838  1.000000   \n",
              "Ticket      -0.164549  0.319869  0.059372 -0.070382  0.079461  0.020003   \n",
              "Fare         0.257307 -0.549500 -0.182333  0.096688  0.159651  0.216225   \n",
              "Embarked    -0.163517  0.157112  0.104057 -0.014205  0.066654  0.038322   \n",
              "Family_Size  0.016639  0.065997 -0.200988 -0.245619  0.890712  0.783111   \n",
              "Status      -0.201345  0.045541  0.256407  0.272384 -0.191786 -0.119721   \n",
              "\n",
              "               Ticket      Fare  Embarked  Family_Size    Status  \n",
              "Survived    -0.164549  0.257307 -0.163517     0.016639 -0.201345  \n",
              "Pclass       0.319869 -0.549500  0.157112     0.065997  0.045541  \n",
              "Sex          0.059372 -0.182333  0.104057    -0.200988  0.256407  \n",
              "Age         -0.070382  0.096688 -0.014205    -0.245619  0.272384  \n",
              "SibSp        0.079461  0.159651  0.066654     0.890712 -0.191786  \n",
              "Parch        0.020003  0.216225  0.038322     0.783111 -0.119721  \n",
              "Ticket       1.000000 -0.013885 -0.006041     0.064302  0.025176  \n",
              "Fare        -0.013885  1.000000 -0.221226     0.217138 -0.086359  \n",
              "Embarked    -0.006041 -0.221226  1.000000     0.064701  0.065899  \n",
              "Family_Size  0.064302  0.217138  0.064701     1.000000 -0.190890  \n",
              "Status       0.025176 -0.086359  0.065899    -0.190890  1.000000  "
            ],
            "text/html": [
              "\n",
              "  <div id=\"df-613f11be-3e2a-49d7-99dc-2235dd1c1b16\" class=\"colab-df-container\">\n",
              "    <div>\n",
              "<style scoped>\n",
              "    .dataframe tbody tr th:only-of-type {\n",
              "        vertical-align: middle;\n",
              "    }\n",
              "\n",
              "    .dataframe tbody tr th {\n",
              "        vertical-align: top;\n",
              "    }\n",
              "\n",
              "    .dataframe thead th {\n",
              "        text-align: right;\n",
              "    }\n",
              "</style>\n",
              "<table border=\"1\" class=\"dataframe\">\n",
              "  <thead>\n",
              "    <tr style=\"text-align: right;\">\n",
              "      <th></th>\n",
              "      <th>Survived</th>\n",
              "      <th>Pclass</th>\n",
              "      <th>Sex</th>\n",
              "      <th>Age</th>\n",
              "      <th>SibSp</th>\n",
              "      <th>Parch</th>\n",
              "      <th>Ticket</th>\n",
              "      <th>Fare</th>\n",
              "      <th>Embarked</th>\n",
              "      <th>Family_Size</th>\n",
              "      <th>Status</th>\n",
              "    </tr>\n",
              "  </thead>\n",
              "  <tbody>\n",
              "    <tr>\n",
              "      <th>Survived</th>\n",
              "      <td>1.000000</td>\n",
              "      <td>-0.338481</td>\n",
              "      <td>-0.543351</td>\n",
              "      <td>-0.064910</td>\n",
              "      <td>-0.035322</td>\n",
              "      <td>0.081629</td>\n",
              "      <td>-0.164549</td>\n",
              "      <td>0.257307</td>\n",
              "      <td>-0.163517</td>\n",
              "      <td>0.016639</td>\n",
              "      <td>-0.201345</td>\n",
              "    </tr>\n",
              "    <tr>\n",
              "      <th>Pclass</th>\n",
              "      <td>-0.338481</td>\n",
              "      <td>1.000000</td>\n",
              "      <td>0.131900</td>\n",
              "      <td>-0.339898</td>\n",
              "      <td>0.083081</td>\n",
              "      <td>0.018443</td>\n",
              "      <td>0.319869</td>\n",
              "      <td>-0.549500</td>\n",
              "      <td>0.157112</td>\n",
              "      <td>0.065997</td>\n",
              "      <td>0.045541</td>\n",
              "    </tr>\n",
              "    <tr>\n",
              "      <th>Sex</th>\n",
              "      <td>-0.543351</td>\n",
              "      <td>0.131900</td>\n",
              "      <td>1.000000</td>\n",
              "      <td>0.081163</td>\n",
              "      <td>-0.114631</td>\n",
              "      <td>-0.245489</td>\n",
              "      <td>0.059372</td>\n",
              "      <td>-0.182333</td>\n",
              "      <td>0.104057</td>\n",
              "      <td>-0.200988</td>\n",
              "      <td>0.256407</td>\n",
              "    </tr>\n",
              "    <tr>\n",
              "      <th>Age</th>\n",
              "      <td>-0.064910</td>\n",
              "      <td>-0.339898</td>\n",
              "      <td>0.081163</td>\n",
              "      <td>1.000000</td>\n",
              "      <td>-0.233296</td>\n",
              "      <td>-0.172482</td>\n",
              "      <td>-0.070382</td>\n",
              "      <td>0.096688</td>\n",
              "      <td>-0.014205</td>\n",
              "      <td>-0.245619</td>\n",
              "      <td>0.272384</td>\n",
              "    </tr>\n",
              "    <tr>\n",
              "      <th>SibSp</th>\n",
              "      <td>-0.035322</td>\n",
              "      <td>0.083081</td>\n",
              "      <td>-0.114631</td>\n",
              "      <td>-0.233296</td>\n",
              "      <td>1.000000</td>\n",
              "      <td>0.414838</td>\n",
              "      <td>0.079461</td>\n",
              "      <td>0.159651</td>\n",
              "      <td>0.066654</td>\n",
              "      <td>0.890712</td>\n",
              "      <td>-0.191786</td>\n",
              "    </tr>\n",
              "    <tr>\n",
              "      <th>Parch</th>\n",
              "      <td>0.081629</td>\n",
              "      <td>0.018443</td>\n",
              "      <td>-0.245489</td>\n",
              "      <td>-0.172482</td>\n",
              "      <td>0.414838</td>\n",
              "      <td>1.000000</td>\n",
              "      <td>0.020003</td>\n",
              "      <td>0.216225</td>\n",
              "      <td>0.038322</td>\n",
              "      <td>0.783111</td>\n",
              "      <td>-0.119721</td>\n",
              "    </tr>\n",
              "    <tr>\n",
              "      <th>Ticket</th>\n",
              "      <td>-0.164549</td>\n",
              "      <td>0.319869</td>\n",
              "      <td>0.059372</td>\n",
              "      <td>-0.070382</td>\n",
              "      <td>0.079461</td>\n",
              "      <td>0.020003</td>\n",
              "      <td>1.000000</td>\n",
              "      <td>-0.013885</td>\n",
              "      <td>-0.006041</td>\n",
              "      <td>0.064302</td>\n",
              "      <td>0.025176</td>\n",
              "    </tr>\n",
              "    <tr>\n",
              "      <th>Fare</th>\n",
              "      <td>0.257307</td>\n",
              "      <td>-0.549500</td>\n",
              "      <td>-0.182333</td>\n",
              "      <td>0.096688</td>\n",
              "      <td>0.159651</td>\n",
              "      <td>0.216225</td>\n",
              "      <td>-0.013885</td>\n",
              "      <td>1.000000</td>\n",
              "      <td>-0.221226</td>\n",
              "      <td>0.217138</td>\n",
              "      <td>-0.086359</td>\n",
              "    </tr>\n",
              "    <tr>\n",
              "      <th>Embarked</th>\n",
              "      <td>-0.163517</td>\n",
              "      <td>0.157112</td>\n",
              "      <td>0.104057</td>\n",
              "      <td>-0.014205</td>\n",
              "      <td>0.066654</td>\n",
              "      <td>0.038322</td>\n",
              "      <td>-0.006041</td>\n",
              "      <td>-0.221226</td>\n",
              "      <td>1.000000</td>\n",
              "      <td>0.064701</td>\n",
              "      <td>0.065899</td>\n",
              "    </tr>\n",
              "    <tr>\n",
              "      <th>Family_Size</th>\n",
              "      <td>0.016639</td>\n",
              "      <td>0.065997</td>\n",
              "      <td>-0.200988</td>\n",
              "      <td>-0.245619</td>\n",
              "      <td>0.890712</td>\n",
              "      <td>0.783111</td>\n",
              "      <td>0.064302</td>\n",
              "      <td>0.217138</td>\n",
              "      <td>0.064701</td>\n",
              "      <td>1.000000</td>\n",
              "      <td>-0.190890</td>\n",
              "    </tr>\n",
              "    <tr>\n",
              "      <th>Status</th>\n",
              "      <td>-0.201345</td>\n",
              "      <td>0.045541</td>\n",
              "      <td>0.256407</td>\n",
              "      <td>0.272384</td>\n",
              "      <td>-0.191786</td>\n",
              "      <td>-0.119721</td>\n",
              "      <td>0.025176</td>\n",
              "      <td>-0.086359</td>\n",
              "      <td>0.065899</td>\n",
              "      <td>-0.190890</td>\n",
              "      <td>1.000000</td>\n",
              "    </tr>\n",
              "  </tbody>\n",
              "</table>\n",
              "</div>\n",
              "    <div class=\"colab-df-buttons\">\n",
              "\n",
              "  <div class=\"colab-df-container\">\n",
              "    <button class=\"colab-df-convert\" onclick=\"convertToInteractive('df-613f11be-3e2a-49d7-99dc-2235dd1c1b16')\"\n",
              "            title=\"Convert this dataframe to an interactive table.\"\n",
              "            style=\"display:none;\">\n",
              "\n",
              "  <svg xmlns=\"http://www.w3.org/2000/svg\" height=\"24px\" viewBox=\"0 -960 960 960\">\n",
              "    <path d=\"M120-120v-720h720v720H120Zm60-500h600v-160H180v160Zm220 220h160v-160H400v160Zm0 220h160v-160H400v160ZM180-400h160v-160H180v160Zm440 0h160v-160H620v160ZM180-180h160v-160H180v160Zm440 0h160v-160H620v160Z\"/>\n",
              "  </svg>\n",
              "    </button>\n",
              "\n",
              "  <style>\n",
              "    .colab-df-container {\n",
              "      display:flex;\n",
              "      gap: 12px;\n",
              "    }\n",
              "\n",
              "    .colab-df-convert {\n",
              "      background-color: #E8F0FE;\n",
              "      border: none;\n",
              "      border-radius: 50%;\n",
              "      cursor: pointer;\n",
              "      display: none;\n",
              "      fill: #1967D2;\n",
              "      height: 32px;\n",
              "      padding: 0 0 0 0;\n",
              "      width: 32px;\n",
              "    }\n",
              "\n",
              "    .colab-df-convert:hover {\n",
              "      background-color: #E2EBFA;\n",
              "      box-shadow: 0px 1px 2px rgba(60, 64, 67, 0.3), 0px 1px 3px 1px rgba(60, 64, 67, 0.15);\n",
              "      fill: #174EA6;\n",
              "    }\n",
              "\n",
              "    .colab-df-buttons div {\n",
              "      margin-bottom: 4px;\n",
              "    }\n",
              "\n",
              "    [theme=dark] .colab-df-convert {\n",
              "      background-color: #3B4455;\n",
              "      fill: #D2E3FC;\n",
              "    }\n",
              "\n",
              "    [theme=dark] .colab-df-convert:hover {\n",
              "      background-color: #434B5C;\n",
              "      box-shadow: 0px 1px 3px 1px rgba(0, 0, 0, 0.15);\n",
              "      filter: drop-shadow(0px 1px 2px rgba(0, 0, 0, 0.3));\n",
              "      fill: #FFFFFF;\n",
              "    }\n",
              "  </style>\n",
              "\n",
              "    <script>\n",
              "      const buttonEl =\n",
              "        document.querySelector('#df-613f11be-3e2a-49d7-99dc-2235dd1c1b16 button.colab-df-convert');\n",
              "      buttonEl.style.display =\n",
              "        google.colab.kernel.accessAllowed ? 'block' : 'none';\n",
              "\n",
              "      async function convertToInteractive(key) {\n",
              "        const element = document.querySelector('#df-613f11be-3e2a-49d7-99dc-2235dd1c1b16');\n",
              "        const dataTable =\n",
              "          await google.colab.kernel.invokeFunction('convertToInteractive',\n",
              "                                                    [key], {});\n",
              "        if (!dataTable) return;\n",
              "\n",
              "        const docLinkHtml = 'Like what you see? Visit the ' +\n",
              "          '<a target=\"_blank\" href=https://colab.research.google.com/notebooks/data_table.ipynb>data table notebook</a>'\n",
              "          + ' to learn more about interactive tables.';\n",
              "        element.innerHTML = '';\n",
              "        dataTable['output_type'] = 'display_data';\n",
              "        await google.colab.output.renderOutput(dataTable, element);\n",
              "        const docLink = document.createElement('div');\n",
              "        docLink.innerHTML = docLinkHtml;\n",
              "        element.appendChild(docLink);\n",
              "      }\n",
              "    </script>\n",
              "  </div>\n",
              "\n",
              "\n",
              "    <div id=\"df-51cf64ac-e69b-4ab7-83d0-b7a31c853977\">\n",
              "      <button class=\"colab-df-quickchart\" onclick=\"quickchart('df-51cf64ac-e69b-4ab7-83d0-b7a31c853977')\"\n",
              "                title=\"Suggest charts\"\n",
              "                style=\"display:none;\">\n",
              "\n",
              "<svg xmlns=\"http://www.w3.org/2000/svg\" height=\"24px\"viewBox=\"0 0 24 24\"\n",
              "     width=\"24px\">\n",
              "    <g>\n",
              "        <path d=\"M19 3H5c-1.1 0-2 .9-2 2v14c0 1.1.9 2 2 2h14c1.1 0 2-.9 2-2V5c0-1.1-.9-2-2-2zM9 17H7v-7h2v7zm4 0h-2V7h2v10zm4 0h-2v-4h2v4z\"/>\n",
              "    </g>\n",
              "</svg>\n",
              "      </button>\n",
              "\n",
              "<style>\n",
              "  .colab-df-quickchart {\n",
              "      --bg-color: #E8F0FE;\n",
              "      --fill-color: #1967D2;\n",
              "      --hover-bg-color: #E2EBFA;\n",
              "      --hover-fill-color: #174EA6;\n",
              "      --disabled-fill-color: #AAA;\n",
              "      --disabled-bg-color: #DDD;\n",
              "  }\n",
              "\n",
              "  [theme=dark] .colab-df-quickchart {\n",
              "      --bg-color: #3B4455;\n",
              "      --fill-color: #D2E3FC;\n",
              "      --hover-bg-color: #434B5C;\n",
              "      --hover-fill-color: #FFFFFF;\n",
              "      --disabled-bg-color: #3B4455;\n",
              "      --disabled-fill-color: #666;\n",
              "  }\n",
              "\n",
              "  .colab-df-quickchart {\n",
              "    background-color: var(--bg-color);\n",
              "    border: none;\n",
              "    border-radius: 50%;\n",
              "    cursor: pointer;\n",
              "    display: none;\n",
              "    fill: var(--fill-color);\n",
              "    height: 32px;\n",
              "    padding: 0;\n",
              "    width: 32px;\n",
              "  }\n",
              "\n",
              "  .colab-df-quickchart:hover {\n",
              "    background-color: var(--hover-bg-color);\n",
              "    box-shadow: 0 1px 2px rgba(60, 64, 67, 0.3), 0 1px 3px 1px rgba(60, 64, 67, 0.15);\n",
              "    fill: var(--button-hover-fill-color);\n",
              "  }\n",
              "\n",
              "  .colab-df-quickchart-complete:disabled,\n",
              "  .colab-df-quickchart-complete:disabled:hover {\n",
              "    background-color: var(--disabled-bg-color);\n",
              "    fill: var(--disabled-fill-color);\n",
              "    box-shadow: none;\n",
              "  }\n",
              "\n",
              "  .colab-df-spinner {\n",
              "    border: 2px solid var(--fill-color);\n",
              "    border-color: transparent;\n",
              "    border-bottom-color: var(--fill-color);\n",
              "    animation:\n",
              "      spin 1s steps(1) infinite;\n",
              "  }\n",
              "\n",
              "  @keyframes spin {\n",
              "    0% {\n",
              "      border-color: transparent;\n",
              "      border-bottom-color: var(--fill-color);\n",
              "      border-left-color: var(--fill-color);\n",
              "    }\n",
              "    20% {\n",
              "      border-color: transparent;\n",
              "      border-left-color: var(--fill-color);\n",
              "      border-top-color: var(--fill-color);\n",
              "    }\n",
              "    30% {\n",
              "      border-color: transparent;\n",
              "      border-left-color: var(--fill-color);\n",
              "      border-top-color: var(--fill-color);\n",
              "      border-right-color: var(--fill-color);\n",
              "    }\n",
              "    40% {\n",
              "      border-color: transparent;\n",
              "      border-right-color: var(--fill-color);\n",
              "      border-top-color: var(--fill-color);\n",
              "    }\n",
              "    60% {\n",
              "      border-color: transparent;\n",
              "      border-right-color: var(--fill-color);\n",
              "    }\n",
              "    80% {\n",
              "      border-color: transparent;\n",
              "      border-right-color: var(--fill-color);\n",
              "      border-bottom-color: var(--fill-color);\n",
              "    }\n",
              "    90% {\n",
              "      border-color: transparent;\n",
              "      border-bottom-color: var(--fill-color);\n",
              "    }\n",
              "  }\n",
              "</style>\n",
              "\n",
              "      <script>\n",
              "        async function quickchart(key) {\n",
              "          const quickchartButtonEl =\n",
              "            document.querySelector('#' + key + ' button');\n",
              "          quickchartButtonEl.disabled = true;  // To prevent multiple clicks.\n",
              "          quickchartButtonEl.classList.add('colab-df-spinner');\n",
              "          try {\n",
              "            const charts = await google.colab.kernel.invokeFunction(\n",
              "                'suggestCharts', [key], {});\n",
              "          } catch (error) {\n",
              "            console.error('Error during call to suggestCharts:', error);\n",
              "          }\n",
              "          quickchartButtonEl.classList.remove('colab-df-spinner');\n",
              "          quickchartButtonEl.classList.add('colab-df-quickchart-complete');\n",
              "        }\n",
              "        (() => {\n",
              "          let quickchartButtonEl =\n",
              "            document.querySelector('#df-51cf64ac-e69b-4ab7-83d0-b7a31c853977 button');\n",
              "          quickchartButtonEl.style.display =\n",
              "            google.colab.kernel.accessAllowed ? 'block' : 'none';\n",
              "        })();\n",
              "      </script>\n",
              "    </div>\n",
              "    </div>\n",
              "  </div>\n"
            ],
            "application/vnd.google.colaboratory.intrinsic+json": {
              "type": "dataframe",
              "summary": "{\n  \"name\": \"df\",\n  \"rows\": 11,\n  \"fields\": [\n    {\n      \"column\": \"Survived\",\n      \"properties\": {\n        \"dtype\": \"number\",\n        \"std\": 0.3975616406687707,\n        \"min\": -0.543351380657755,\n        \"max\": 1.0,\n        \"num_unique_values\": 11,\n        \"samples\": [\n          0.08162940708348335,\n          1.0,\n          0.016638989282745178\n        ],\n        \"semantic_type\": \"\",\n        \"description\": \"\"\n      }\n    },\n    {\n      \"column\": \"Pclass\",\n      \"properties\": {\n        \"dtype\": \"number\",\n        \"std\": 0.4071900912589479,\n        \"min\": -0.5494996199439076,\n        \"max\": 1.0,\n        \"num_unique_values\": 11,\n        \"samples\": [\n          0.018442671310748508,\n          -0.33848103596101514,\n          0.06599690843099822\n        ],\n        \"semantic_type\": \"\",\n        \"description\": \"\"\n      }\n    },\n    {\n      \"column\": \"Sex\",\n      \"properties\": {\n        \"dtype\": \"number\",\n        \"std\": 0.3918507296724563,\n        \"min\": -0.543351380657755,\n        \"max\": 1.0,\n        \"num_unique_values\": 11,\n        \"samples\": [\n          -0.24548896009069898,\n          -0.543351380657755,\n          -0.20098844437108526\n        ],\n        \"semantic_type\": \"\",\n        \"description\": \"\"\n      }\n    },\n    {\n      \"column\": \"Age\",\n      \"properties\": {\n        \"dtype\": \"number\",\n        \"std\": 0.367536368675305,\n        \"min\": -0.33989832839258594,\n        \"max\": 1.0,\n        \"num_unique_values\": 11,\n        \"samples\": [\n          -0.17248195403694871,\n          -0.06491041993052588,\n          -0.2456191538086169\n        ],\n        \"semantic_type\": \"\",\n        \"description\": \"\"\n      }\n    },\n    {\n      \"column\": \"SibSp\",\n      \"properties\": {\n        \"dtype\": \"number\",\n        \"std\": 0.4130213676247215,\n        \"min\": -0.23329633125248891,\n        \"max\": 1.0,\n        \"num_unique_values\": 11,\n        \"samples\": [\n          0.41483769862015624,\n          -0.035322498885735576,\n          0.890711671869885\n        ],\n        \"semantic_type\": \"\",\n        \"description\": \"\"\n      }\n    },\n    {\n      \"column\": \"Parch\",\n      \"properties\": {\n        \"dtype\": \"number\",\n        \"std\": 0.39609288822654004,\n        \"min\": -0.24548896009069898,\n        \"max\": 1.0,\n        \"num_unique_values\": 11,\n        \"samples\": [\n          1.0,\n          0.08162940708348335,\n          0.7831107750000584\n        ],\n        \"semantic_type\": \"\",\n        \"description\": \"\"\n      }\n    },\n    {\n      \"column\": \"Ticket\",\n      \"properties\": {\n        \"dtype\": \"number\",\n        \"std\": 0.3150843095893251,\n        \"min\": -0.16454913400236698,\n        \"max\": 1.0,\n        \"num_unique_values\": 11,\n        \"samples\": [\n          0.02000347409140952,\n          -0.16454913400236698,\n          0.06430246239321041\n        ],\n        \"semantic_type\": \"\",\n        \"description\": \"\"\n      }\n    },\n    {\n      \"column\": \"Fare\",\n      \"properties\": {\n        \"dtype\": \"number\",\n        \"std\": 0.3891173062429546,\n        \"min\": -0.5494996199439076,\n        \"max\": 1.0,\n        \"num_unique_values\": 11,\n        \"samples\": [\n          0.21622494477076448,\n          0.2573065223849626,\n          0.2171384070524337\n        ],\n        \"semantic_type\": \"\",\n        \"description\": \"\"\n      }\n    },\n    {\n      \"column\": \"Embarked\",\n      \"properties\": {\n        \"dtype\": \"number\",\n        \"std\": 0.3189846398573094,\n        \"min\": -0.22122624290487766,\n        \"max\": 1.0,\n        \"num_unique_values\": 11,\n        \"samples\": [\n          0.03832224833564747,\n          -0.16351665142509852,\n          0.06470090490439902\n        ],\n        \"semantic_type\": \"\",\n        \"description\": \"\"\n      }\n    },\n    {\n      \"column\": \"Family_Size\",\n      \"properties\": {\n        \"dtype\": \"number\",\n        \"std\": 0.45293112197080676,\n        \"min\": -0.2456191538086169,\n        \"max\": 1.0,\n        \"num_unique_values\": 11,\n        \"samples\": [\n          0.7831107750000584,\n          0.016638989282745178,\n          1.0\n        ],\n        \"semantic_type\": \"\",\n        \"description\": \"\"\n      }\n    },\n    {\n      \"column\": \"Status\",\n      \"properties\": {\n        \"dtype\": \"number\",\n        \"std\": 0.34826552126295507,\n        \"min\": -0.20134548915219427,\n        \"max\": 1.0,\n        \"num_unique_values\": 11,\n        \"samples\": [\n          -0.11972080084064413,\n          -0.20134548915219427,\n          -0.19088954085126716\n        ],\n        \"semantic_type\": \"\",\n        \"description\": \"\"\n      }\n    }\n  ]\n}"
            }
          },
          "metadata": {},
          "execution_count": 156
        }
      ],
      "source": [
        "df.corr()"
      ]
    },
    {
      "cell_type": "markdown",
      "metadata": {
        "id": "I8wcn6Soz8B-"
      },
      "source": [
        "## Заполнение пропусков в возрасте средним значением"
      ]
    },
    {
      "cell_type": "code",
      "execution_count": 157,
      "metadata": {
        "id": "D6kgUD62z8B-"
      },
      "outputs": [],
      "source": [
        "df = df.drop(['Parch', 'SibSp'], axis=1)"
      ]
    },
    {
      "cell_type": "code",
      "execution_count": 158,
      "metadata": {
        "execution": {
          "iopub.execute_input": "2024-12-13T12:37:10.013995Z",
          "iopub.status.busy": "2024-12-13T12:37:10.013564Z",
          "iopub.status.idle": "2024-12-13T12:37:10.024262Z",
          "shell.execute_reply": "2024-12-13T12:37:10.023186Z",
          "shell.execute_reply.started": "2024-12-13T12:37:10.013946Z"
        },
        "trusted": true,
        "id": "tyav87ttz8B-"
      },
      "outputs": [],
      "source": [
        "df['Age'] = df['Age'].fillna(df['Age'].median())\n",
        "df['Embarked'] = df['Embarked'].fillna('S')"
      ]
    },
    {
      "cell_type": "code",
      "execution_count": 159,
      "metadata": {
        "execution": {
          "iopub.execute_input": "2024-12-13T12:37:10.081451Z",
          "iopub.status.busy": "2024-12-13T12:37:10.081107Z",
          "iopub.status.idle": "2024-12-13T12:37:10.103554Z",
          "shell.execute_reply": "2024-12-13T12:37:10.102484Z",
          "shell.execute_reply.started": "2024-12-13T12:37:10.081419Z"
        },
        "trusted": true,
        "colab": {
          "base_uri": "https://localhost:8080/"
        },
        "id": "eBHAER6bz8B-",
        "outputId": "71968088-ff12-4433-9be1-da51a72f91fc"
      },
      "outputs": [
        {
          "output_type": "execute_result",
          "data": {
            "text/plain": [
              "{'Survived': array([0, 1]),\n",
              " 'Pclass': array([3, 1, 2]),\n",
              " 'Sex': array([1, 0]),\n",
              " 'Ticket': array([523, 596, 669,  49, 472, 275,  85, 395, 344, 132, 616,  38, 535,\n",
              "        333, 413, 153, 480, 151, 301, 184, 139, 152, 278,  42, 329, 179,\n",
              "         95, 283, 362, 598, 586, 288, 549, 600,  43, 202, 514, 302, 186,\n",
              "        507,  53, 391, 634, 282, 617, 462,  76, 190, 377, 249, 522, 587,\n",
              "        239,  29,  94, 555, 215, 561, 566, 197,  32, 457, 337, 601, 189,\n",
              "        553, 623, 248, 270, 557, 621, 204,  80, 347, 355, 473, 158, 432,\n",
              "        304, 311, 280,  25, 637, 247, 676, 652, 297, 298, 341, 678, 548,\n",
              "        428, 475, 607, 612, 117, 150, 384, 361, 417, 505, 245, 354, 296,\n",
              "        254, 388, 469,   2, 193, 274, 491, 176, 666, 460, 585, 540, 219,\n",
              "        463, 541, 196, 318, 380, 640, 537, 111, 552, 630,  55, 504, 592,\n",
              "        203, 332, 668, 438, 118, 558, 405, 113, 147, 622,  36, 516, 538,\n",
              "        573, 595, 418, 654, 258, 568, 470, 559, 323, 265, 423,  28, 576,\n",
              "          5, 659,  90, 412, 488, 593, 169, 574, 629, 114, 271,  34, 459,\n",
              "         11, 435, 386, 122, 227, 406, 604, 452, 494, 461, 160, 306, 242,\n",
              "        177, 530, 316, 216, 445,  17, 642, 570, 526, 163, 443, 416, 670,\n",
              "        142,  63, 679, 653, 105, 102, 375,  93, 615, 672, 525, 125, 322,\n",
              "        128, 554, 677, 198, 556, 231, 636, 444, 674, 658, 213,  92, 325,\n",
              "        166,  54, 144, 422,  31, 536, 458, 185, 589,   0, 608, 115, 482,\n",
              "          1,  16, 478, 546, 334, 588, 613,  47, 162, 594, 465,  71, 326,\n",
              "        135, 551, 290, 340, 310, 533,  24, 378, 308, 353, 134, 464,  91,\n",
              "         64, 635, 376, 374, 606, 212,  37,  98, 513, 441, 109, 527,  83,\n",
              "        611, 575, 584,  59, 602, 167, 382, 571, 343, 232, 453,  81, 524,\n",
              "        365, 124, 299, 229,   7,  20, 605, 370, 510,  39, 159, 149, 112,\n",
              "        157, 257, 483, 562, 262, 503,  30, 214, 182, 314, 131, 279, 285,\n",
              "        633, 211, 641, 544,   4, 175,  78, 581,  58, 244, 273, 545,  27,\n",
              "        183, 324, 610, 187, 665, 371, 220, 447, 625,  33, 401, 246, 410,\n",
              "        414, 226, 146, 140, 663, 292, 492, 267, 230, 321, 237, 255, 367,\n",
              "        487, 655, 295, 224, 168, 225, 307, 392, 534, 259, 331, 521, 100,\n",
              "        170, 437, 644,   3, 476, 627, 657,  72, 547, 305, 328, 116, 499,\n",
              "        289,  45, 194,  40, 497,  22,  84, 528, 379,  73,  86, 572, 468,\n",
              "         96, 429,   6, 121, 539, 639,  44, 421, 272, 263, 628, 509, 252,\n",
              "        315, 411, 251, 136, 531, 489,  61, 517, 498, 649,  41, 603, 518,\n",
              "        454, 564, 402, 261, 433, 276, 490, 180,  10, 542, 479, 648, 577,\n",
              "        599, 356, 456, 560, 110, 381,  67, 390, 173, 217, 446, 673, 583,\n",
              "        250, 235, 181, 210, 260,  21, 614, 426,  75, 680, 233, 501, 631,\n",
              "        148, 284, 171, 335,  52,  57, 300, 471, 389, 103, 651, 645, 519,\n",
              "        352, 207, 415, 624,  60, 578,  77, 520, 420, 143, 209, 661, 133,\n",
              "         68, 291, 129,  74,  79, 515, 656, 532, 434, 626, 155, 192, 360,\n",
              "         46, 430,   9, 396, 385,  50, 638, 467, 431, 106, 253, 188,  56,\n",
              "        400, 495, 455, 104, 369, 286, 218, 345,  70,  13, 130, 664, 409,\n",
              "        373,  69, 620, 567, 366, 512, 277, 439, 368, 241, 172, 496, 357,\n",
              "        660, 123, 256, 529,  99, 240, 569, 550, 145, 138, 397, 294, 493,\n",
              "        281, 500, 372, 403, 141,  89, 393, 200,  48, 156, 425, 419, 346,\n",
              "        579, 449, 398, 108, 580, 582,  19, 506, 164, 348, 293, 440, 319,\n",
              "        408,  65, 161,  51, 266, 451, 127, 667, 137, 228, 119, 349, 364,\n",
              "         82, 477, 662, 165,  35, 287, 234, 486, 312, 351, 404, 238, 424,\n",
              "        646, 191, 327,  18, 436, 511, 313, 407, 619, 201, 236, 330, 481,\n",
              "        450, 208,  26, 675, 643, 474, 243,  66, 597, 350, 223,  87, 383,\n",
              "        206, 174, 338, 320,  12, 336, 154, 339, 222, 427,  15, 671, 618,\n",
              "        543, 269,  97, 448, 442, 199, 342, 107, 609, 268, 485,  62, 647,\n",
              "        205, 264, 563, 359, 317, 591, 484,  23, 178, 399, 221,  88, 120,\n",
              "        126, 632, 590, 309, 387, 502, 303, 195, 358, 363, 394, 508, 565,\n",
              "        650, 101,  14,   8, 466]),\n",
              " 'Embarked': array([2, 0, 1, 3]),\n",
              " 'Family_Size': array([ 1,  0,  4,  2,  6,  5,  3,  7, 10]),\n",
              " 'Status': array([12, 13,  9,  8,  3, 15,  4, 11, 14,  7,  6, 16, 10,  1,  0,  2,  5])}"
            ]
          },
          "metadata": {},
          "execution_count": 159
        }
      ],
      "source": [
        "{column: df[column].unique() for column in df.drop(['Age', 'Fare'], axis=1).columns}"
      ]
    },
    {
      "cell_type": "markdown",
      "metadata": {
        "id": "Xqxzh2Vrz8B-"
      },
      "source": [
        "# Создание Обучающей модели"
      ]
    },
    {
      "cell_type": "code",
      "execution_count": 160,
      "metadata": {
        "execution": {
          "iopub.execute_input": "2024-12-13T12:37:10.105150Z",
          "iopub.status.busy": "2024-12-13T12:37:10.104819Z",
          "iopub.status.idle": "2024-12-13T12:37:10.115645Z",
          "shell.execute_reply": "2024-12-13T12:37:10.114573Z",
          "shell.execute_reply.started": "2024-12-13T12:37:10.105098Z"
        },
        "trusted": true,
        "id": "VD2gdK89z8B-"
      },
      "outputs": [],
      "source": [
        "X = df.drop(columns=['Survived'], axis=1)\n",
        "y = df['Survived']"
      ]
    },
    {
      "cell_type": "code",
      "execution_count": 161,
      "metadata": {
        "execution": {
          "iopub.execute_input": "2024-12-13T12:37:10.117603Z",
          "iopub.status.busy": "2024-12-13T12:37:10.116935Z",
          "iopub.status.idle": "2024-12-13T12:37:10.127195Z",
          "shell.execute_reply": "2024-12-13T12:37:10.126019Z",
          "shell.execute_reply.started": "2024-12-13T12:37:10.117551Z"
        },
        "trusted": true,
        "id": "jYlOty2Dz8B-"
      },
      "outputs": [],
      "source": [
        "def get_model1():\n",
        "    model = Sequential()\n",
        "    model.add(Dense(64, activation='leaky_relu', input_shape=(X_train.shape[1],)))\n",
        "    model.add(Dense(1,activation = 'sigmoid' ))\n",
        "    model.compile(optimizer='adam', loss='binary_crossentropy', metrics=['accuracy'])\n",
        "\n",
        "    return model"
      ]
    },
    {
      "cell_type": "markdown",
      "source": [
        "Особенности:\n",
        "\n",
        "Простая архитектура с одним скрытым слоем.\n",
        "\n",
        "Используется LeakyReLU для избежания \"мёртвых нейронов\""
      ],
      "metadata": {
        "id": "6hF1D2yblJZh"
      }
    },
    {
      "cell_type": "code",
      "execution_count": 162,
      "metadata": {
        "execution": {
          "iopub.execute_input": "2024-12-13T12:37:10.128857Z",
          "iopub.status.busy": "2024-12-13T12:37:10.128524Z",
          "iopub.status.idle": "2024-12-13T12:37:10.144402Z",
          "shell.execute_reply": "2024-12-13T12:37:10.143069Z",
          "shell.execute_reply.started": "2024-12-13T12:37:10.128825Z"
        },
        "trusted": true,
        "id": "3GmnRwZjz8B-"
      },
      "outputs": [],
      "source": [
        "def get_model2():\n",
        "    model = Sequential()\n",
        "    model.add(Dense(32, activation='relu', input_shape=(X_train.shape[1],)))\n",
        "    model.add(Dense(16, activation='relu'))\n",
        "    model.add(Dense(8, activation='relu'))\n",
        "    model.add(Dropout(0.8))\n",
        "    model.add(Dense(1, activation='sigmoid'))\n",
        "    model.compile(optimizer='adam', loss='binary_crossentropy', metrics=['accuracy'])\n",
        "\n",
        "    return model"
      ]
    },
    {
      "cell_type": "markdown",
      "source": [
        "Особенности и замечания:\n",
        "\n",
        "Архитектура:\n",
        "\n",
        "Более глубокая сеть (3 скрытых слоя) с уменьшением числа нейронов (32 → 16 → 8).\n",
        "\n",
        "Использование ReLU для нелинейности.\n",
        "\n",
        "Регуляризация:\n",
        "\n",
        "Высокий параметр Dropout(0.8) (отключает 80% нейронов на обучении). Это может быть слишком агрессивно — есть риск недообучения.\n",
        "\n",
        "Рекомендация: Уменьшить dropout до 0.2–0.5 или добавить BatchNormalization для стабилизации обучения."
      ],
      "metadata": {
        "id": "J_3dASz8llOY"
      }
    },
    {
      "cell_type": "code",
      "execution_count": 163,
      "metadata": {
        "execution": {
          "iopub.execute_input": "2024-12-13T12:37:10.146073Z",
          "iopub.status.busy": "2024-12-13T12:37:10.145762Z",
          "iopub.status.idle": "2024-12-13T12:37:10.165210Z",
          "shell.execute_reply": "2024-12-13T12:37:10.164336Z",
          "shell.execute_reply.started": "2024-12-13T12:37:10.146042Z"
        },
        "trusted": true,
        "id": "eByFLEXjz8B-"
      },
      "outputs": [],
      "source": [
        "X_train, X_test, y_train, y_test = train_test_split(X, y, test_size=0.2, random_state=42)\n",
        "\n",
        "scaler = StandardScaler()\n",
        "X_train = scaler.fit_transform(X_train)\n",
        "X_test = scaler.transform(X_test)"
      ]
    },
    {
      "cell_type": "markdown",
      "source": [
        "## Тестирование модели №1"
      ],
      "metadata": {
        "id": "dExra7PWl13p"
      }
    },
    {
      "cell_type": "code",
      "execution_count": 164,
      "metadata": {
        "execution": {
          "iopub.execute_input": "2024-12-13T12:37:10.166858Z",
          "iopub.status.busy": "2024-12-13T12:37:10.166551Z",
          "iopub.status.idle": "2024-12-13T12:37:13.812015Z",
          "shell.execute_reply": "2024-12-13T12:37:13.810875Z",
          "shell.execute_reply.started": "2024-12-13T12:37:10.166827Z"
        },
        "trusted": true,
        "colab": {
          "base_uri": "https://localhost:8080/",
          "height": 1000
        },
        "id": "arueaVQcz8B-",
        "outputId": "391e28ad-9905-4059-df0c-cfe731610d5a"
      },
      "outputs": [
        {
          "output_type": "stream",
          "name": "stdout",
          "text": [
            "Epoch 1/32\n"
          ]
        },
        {
          "output_type": "stream",
          "name": "stderr",
          "text": [
            "/usr/local/lib/python3.11/dist-packages/keras/src/layers/core/dense.py:87: UserWarning: Do not pass an `input_shape`/`input_dim` argument to a layer. When using Sequential models, prefer using an `Input(shape)` object as the first layer in the model instead.\n",
            "  super().__init__(activity_regularizer=activity_regularizer, **kwargs)\n"
          ]
        },
        {
          "output_type": "stream",
          "name": "stdout",
          "text": [
            "\u001b[1m18/18\u001b[0m \u001b[32m━━━━━━━━━━━━━━━━━━━━\u001b[0m\u001b[37m\u001b[0m \u001b[1m2s\u001b[0m 19ms/step - accuracy: 0.5993 - loss: 0.6667 - val_accuracy: 0.7692 - val_loss: 0.5857\n",
            "Epoch 2/32\n",
            "\u001b[1m18/18\u001b[0m \u001b[32m━━━━━━━━━━━━━━━━━━━━\u001b[0m\u001b[37m\u001b[0m \u001b[1m0s\u001b[0m 7ms/step - accuracy: 0.7268 - loss: 0.5894 - val_accuracy: 0.8112 - val_loss: 0.5169\n",
            "Epoch 3/32\n",
            "\u001b[1m18/18\u001b[0m \u001b[32m━━━━━━━━━━━━━━━━━━━━\u001b[0m\u001b[37m\u001b[0m \u001b[1m0s\u001b[0m 7ms/step - accuracy: 0.7610 - loss: 0.5263 - val_accuracy: 0.8462 - val_loss: 0.4738\n",
            "Epoch 4/32\n",
            "\u001b[1m18/18\u001b[0m \u001b[32m━━━━━━━━━━━━━━━━━━━━\u001b[0m\u001b[37m\u001b[0m \u001b[1m0s\u001b[0m 8ms/step - accuracy: 0.7841 - loss: 0.5116 - val_accuracy: 0.8392 - val_loss: 0.4473\n",
            "Epoch 5/32\n",
            "\u001b[1m18/18\u001b[0m \u001b[32m━━━━━━━━━━━━━━━━━━━━\u001b[0m\u001b[37m\u001b[0m \u001b[1m0s\u001b[0m 7ms/step - accuracy: 0.8032 - loss: 0.4623 - val_accuracy: 0.8392 - val_loss: 0.4264\n",
            "Epoch 6/32\n",
            "\u001b[1m18/18\u001b[0m \u001b[32m━━━━━━━━━━━━━━━━━━━━\u001b[0m\u001b[37m\u001b[0m \u001b[1m0s\u001b[0m 7ms/step - accuracy: 0.8146 - loss: 0.4565 - val_accuracy: 0.8392 - val_loss: 0.4168\n",
            "Epoch 7/32\n",
            "\u001b[1m18/18\u001b[0m \u001b[32m━━━━━━━━━━━━━━━━━━━━\u001b[0m\u001b[37m\u001b[0m \u001b[1m0s\u001b[0m 9ms/step - accuracy: 0.7738 - loss: 0.4785 - val_accuracy: 0.8392 - val_loss: 0.4094\n",
            "Epoch 8/32\n",
            "\u001b[1m18/18\u001b[0m \u001b[32m━━━━━━━━━━━━━━━━━━━━\u001b[0m\u001b[37m\u001b[0m \u001b[1m0s\u001b[0m 6ms/step - accuracy: 0.8068 - loss: 0.4395 - val_accuracy: 0.8392 - val_loss: 0.4034\n",
            "Epoch 9/32\n",
            "\u001b[1m18/18\u001b[0m \u001b[32m━━━━━━━━━━━━━━━━━━━━\u001b[0m\u001b[37m\u001b[0m \u001b[1m0s\u001b[0m 8ms/step - accuracy: 0.7693 - loss: 0.4731 - val_accuracy: 0.8322 - val_loss: 0.4009\n",
            "Epoch 10/32\n",
            "\u001b[1m18/18\u001b[0m \u001b[32m━━━━━━━━━━━━━━━━━━━━\u001b[0m\u001b[37m\u001b[0m \u001b[1m0s\u001b[0m 7ms/step - accuracy: 0.7849 - loss: 0.4555 - val_accuracy: 0.8322 - val_loss: 0.3967\n",
            "Epoch 11/32\n",
            "\u001b[1m18/18\u001b[0m \u001b[32m━━━━━━━━━━━━━━━━━━━━\u001b[0m\u001b[37m\u001b[0m \u001b[1m0s\u001b[0m 6ms/step - accuracy: 0.8000 - loss: 0.4445 - val_accuracy: 0.8322 - val_loss: 0.3948\n",
            "Epoch 12/32\n",
            "\u001b[1m18/18\u001b[0m \u001b[32m━━━━━━━━━━━━━━━━━━━━\u001b[0m\u001b[37m\u001b[0m \u001b[1m0s\u001b[0m 7ms/step - accuracy: 0.8154 - loss: 0.4258 - val_accuracy: 0.8322 - val_loss: 0.3923\n",
            "Epoch 13/32\n",
            "\u001b[1m18/18\u001b[0m \u001b[32m━━━━━━━━━━━━━━━━━━━━\u001b[0m\u001b[37m\u001b[0m \u001b[1m0s\u001b[0m 9ms/step - accuracy: 0.7985 - loss: 0.4531 - val_accuracy: 0.8322 - val_loss: 0.3931\n",
            "Epoch 14/32\n",
            "\u001b[1m18/18\u001b[0m \u001b[32m━━━━━━━━━━━━━━━━━━━━\u001b[0m\u001b[37m\u001b[0m \u001b[1m0s\u001b[0m 11ms/step - accuracy: 0.8291 - loss: 0.4025 - val_accuracy: 0.8322 - val_loss: 0.3897\n",
            "Epoch 15/32\n",
            "\u001b[1m18/18\u001b[0m \u001b[32m━━━━━━━━━━━━━━━━━━━━\u001b[0m\u001b[37m\u001b[0m \u001b[1m0s\u001b[0m 9ms/step - accuracy: 0.8255 - loss: 0.4088 - val_accuracy: 0.8392 - val_loss: 0.3887\n",
            "Epoch 16/32\n",
            "\u001b[1m18/18\u001b[0m \u001b[32m━━━━━━━━━━━━━━━━━━━━\u001b[0m\u001b[37m\u001b[0m \u001b[1m0s\u001b[0m 11ms/step - accuracy: 0.8055 - loss: 0.4386 - val_accuracy: 0.8392 - val_loss: 0.3899\n",
            "Epoch 17/32\n",
            "\u001b[1m18/18\u001b[0m \u001b[32m━━━━━━━━━━━━━━━━━━━━\u001b[0m\u001b[37m\u001b[0m \u001b[1m0s\u001b[0m 10ms/step - accuracy: 0.8240 - loss: 0.4071 - val_accuracy: 0.8322 - val_loss: 0.3891\n",
            "Epoch 18/32\n",
            "\u001b[1m18/18\u001b[0m \u001b[32m━━━━━━━━━━━━━━━━━━━━\u001b[0m\u001b[37m\u001b[0m \u001b[1m0s\u001b[0m 11ms/step - accuracy: 0.8254 - loss: 0.4422 - val_accuracy: 0.8322 - val_loss: 0.3882\n",
            "Epoch 19/32\n",
            "\u001b[1m18/18\u001b[0m \u001b[32m━━━━━━━━━━━━━━━━━━━━\u001b[0m\u001b[37m\u001b[0m \u001b[1m0s\u001b[0m 12ms/step - accuracy: 0.8310 - loss: 0.4143 - val_accuracy: 0.8252 - val_loss: 0.3870\n",
            "Epoch 20/32\n",
            "\u001b[1m18/18\u001b[0m \u001b[32m━━━━━━━━━━━━━━━━━━━━\u001b[0m\u001b[37m\u001b[0m \u001b[1m0s\u001b[0m 13ms/step - accuracy: 0.8304 - loss: 0.4239 - val_accuracy: 0.8252 - val_loss: 0.3868\n",
            "Epoch 21/32\n",
            "\u001b[1m18/18\u001b[0m \u001b[32m━━━━━━━━━━━━━━━━━━━━\u001b[0m\u001b[37m\u001b[0m \u001b[1m0s\u001b[0m 7ms/step - accuracy: 0.8213 - loss: 0.4266 - val_accuracy: 0.8252 - val_loss: 0.3853\n",
            "Epoch 22/32\n",
            "\u001b[1m18/18\u001b[0m \u001b[32m━━━━━━━━━━━━━━━━━━━━\u001b[0m\u001b[37m\u001b[0m \u001b[1m0s\u001b[0m 7ms/step - accuracy: 0.8339 - loss: 0.4019 - val_accuracy: 0.8252 - val_loss: 0.3863\n",
            "Epoch 23/32\n",
            "\u001b[1m18/18\u001b[0m \u001b[32m━━━━━━━━━━━━━━━━━━━━\u001b[0m\u001b[37m\u001b[0m \u001b[1m0s\u001b[0m 7ms/step - accuracy: 0.8311 - loss: 0.4366 - val_accuracy: 0.8252 - val_loss: 0.3851\n",
            "Epoch 24/32\n",
            "\u001b[1m18/18\u001b[0m \u001b[32m━━━━━━━━━━━━━━━━━━━━\u001b[0m\u001b[37m\u001b[0m \u001b[1m0s\u001b[0m 7ms/step - accuracy: 0.8188 - loss: 0.4212 - val_accuracy: 0.8252 - val_loss: 0.3835\n",
            "Epoch 25/32\n",
            "\u001b[1m18/18\u001b[0m \u001b[32m━━━━━━━━━━━━━━━━━━━━\u001b[0m\u001b[37m\u001b[0m \u001b[1m0s\u001b[0m 7ms/step - accuracy: 0.8544 - loss: 0.3643 - val_accuracy: 0.8252 - val_loss: 0.3842\n",
            "Epoch 26/32\n",
            "\u001b[1m18/18\u001b[0m \u001b[32m━━━━━━━━━━━━━━━━━━━━\u001b[0m\u001b[37m\u001b[0m \u001b[1m0s\u001b[0m 7ms/step - accuracy: 0.8342 - loss: 0.4013 - val_accuracy: 0.8252 - val_loss: 0.3855\n",
            "Epoch 27/32\n",
            "\u001b[1m18/18\u001b[0m \u001b[32m━━━━━━━━━━━━━━━━━━━━\u001b[0m\u001b[37m\u001b[0m \u001b[1m0s\u001b[0m 9ms/step - accuracy: 0.8270 - loss: 0.4008 - val_accuracy: 0.8322 - val_loss: 0.3840\n",
            "Epoch 28/32\n",
            "\u001b[1m18/18\u001b[0m \u001b[32m━━━━━━━━━━━━━━━━━━━━\u001b[0m\u001b[37m\u001b[0m \u001b[1m0s\u001b[0m 9ms/step - accuracy: 0.8305 - loss: 0.3891 - val_accuracy: 0.8322 - val_loss: 0.3839\n",
            "Epoch 29/32\n",
            "\u001b[1m18/18\u001b[0m \u001b[32m━━━━━━━━━━━━━━━━━━━━\u001b[0m\u001b[37m\u001b[0m \u001b[1m0s\u001b[0m 7ms/step - accuracy: 0.8330 - loss: 0.4097 - val_accuracy: 0.8322 - val_loss: 0.3839\n",
            "Epoch 30/32\n",
            "\u001b[1m18/18\u001b[0m \u001b[32m━━━━━━━━━━━━━━━━━━━━\u001b[0m\u001b[37m\u001b[0m \u001b[1m0s\u001b[0m 8ms/step - accuracy: 0.8127 - loss: 0.4305 - val_accuracy: 0.8322 - val_loss: 0.3848\n",
            "Epoch 31/32\n",
            "\u001b[1m18/18\u001b[0m \u001b[32m━━━━━━━━━━━━━━━━━━━━\u001b[0m\u001b[37m\u001b[0m \u001b[1m0s\u001b[0m 7ms/step - accuracy: 0.8367 - loss: 0.4102 - val_accuracy: 0.8322 - val_loss: 0.3815\n",
            "Epoch 32/32\n",
            "\u001b[1m18/18\u001b[0m \u001b[32m━━━━━━━━━━━━━━━━━━━━\u001b[0m\u001b[37m\u001b[0m \u001b[1m0s\u001b[0m 7ms/step - accuracy: 0.8342 - loss: 0.4128 - val_accuracy: 0.8322 - val_loss: 0.3837\n",
            "\u001b[1m6/6\u001b[0m \u001b[32m━━━━━━━━━━━━━━━━━━━━\u001b[0m\u001b[37m\u001b[0m \u001b[1m0s\u001b[0m 8ms/step - accuracy: 0.8430 - loss: 0.4061 \n",
            "Test Accuracy: 0.81\n"
          ]
        },
        {
          "output_type": "display_data",
          "data": {
            "text/plain": [
              "<Figure size 640x480 with 1 Axes>"
            ],
            "image/png": "[encoded data removed]"
          },
          "metadata": {}
        }
      ],
      "source": [
        "import matplotlib.pyplot as plt\n",
        "%matplotlib inline\n",
        "model = get_model1()\n",
        "history = model.fit(X_train, y_train, epochs=32, batch_size=32, validation_split=0.2)\n",
        "loss, accuracy = model.evaluate(X_test, y_test)\n",
        "print(f'Test Accuracy: {accuracy:.2f}')\n",
        "plt.plot(history.history['loss'])\n",
        "plt.plot(history.history['val_loss'])\n",
        "plt.title('model loss')\n",
        "plt.ylabel('loss')\n",
        "plt.xlabel('epoch')\n",
        "plt.legend(['train', 'val'], loc='upper left')\n",
        "plt.show()"
      ]
    },
    {
      "cell_type": "markdown",
      "source": [
        "## Тестирование модели №2"
      ],
      "metadata": {
        "id": "Chl5ceXhl9Vw"
      }
    },
    {
      "cell_type": "code",
      "execution_count": 165,
      "metadata": {
        "execution": {
          "iopub.execute_input": "2024-12-13T12:37:13.813729Z",
          "iopub.status.busy": "2024-12-13T12:37:13.813387Z",
          "iopub.status.idle": "2024-12-13T12:37:17.732300Z",
          "shell.execute_reply": "2024-12-13T12:37:17.731328Z",
          "shell.execute_reply.started": "2024-12-13T12:37:13.813694Z"
        },
        "trusted": true,
        "colab": {
          "base_uri": "https://localhost:8080/",
          "height": 1000
        },
        "id": "cBrKqIksz8B-",
        "outputId": "98aa7d96-beea-4a50-e72d-919a2532b842"
      },
      "outputs": [
        {
          "output_type": "stream",
          "name": "stdout",
          "text": [
            "Epoch 1/32\n",
            "\u001b[1m9/9\u001b[0m \u001b[32m━━━━━━━━━━━━━━━━━━━━\u001b[0m\u001b[37m\u001b[0m \u001b[1m2s\u001b[0m 37ms/step - accuracy: 0.5831 - loss: 0.7074 - val_accuracy: 0.6993 - val_loss: 0.6486\n",
            "Epoch 2/32\n",
            "\u001b[1m9/9\u001b[0m \u001b[32m━━━━━━━━━━━━━━━━━━━━\u001b[0m\u001b[37m\u001b[0m \u001b[1m0s\u001b[0m 12ms/step - accuracy: 0.6114 - loss: 0.6895 - val_accuracy: 0.7203 - val_loss: 0.6369\n",
            "Epoch 3/32\n",
            "\u001b[1m9/9\u001b[0m \u001b[32m━━━━━━━━━━━━━━━━━━━━\u001b[0m\u001b[37m\u001b[0m \u001b[1m0s\u001b[0m 11ms/step - accuracy: 0.6516 - loss: 0.6767 - val_accuracy: 0.7622 - val_loss: 0.6284\n",
            "Epoch 4/32\n",
            "\u001b[1m9/9\u001b[0m \u001b[32m━━━━━━━━━━━━━━━━━━━━\u001b[0m\u001b[37m\u001b[0m \u001b[1m0s\u001b[0m 11ms/step - accuracy: 0.5975 - loss: 0.6900 - val_accuracy: 0.7832 - val_loss: 0.6192\n",
            "Epoch 5/32\n",
            "\u001b[1m9/9\u001b[0m \u001b[32m━━━━━━━━━━━━━━━━━━━━\u001b[0m\u001b[37m\u001b[0m \u001b[1m0s\u001b[0m 11ms/step - accuracy: 0.6224 - loss: 0.6625 - val_accuracy: 0.7902 - val_loss: 0.6110\n",
            "Epoch 6/32\n",
            "\u001b[1m9/9\u001b[0m \u001b[32m━━━━━━━━━━━━━━━━━━━━\u001b[0m\u001b[37m\u001b[0m \u001b[1m0s\u001b[0m 11ms/step - accuracy: 0.6699 - loss: 0.6404 - val_accuracy: 0.8112 - val_loss: 0.6008\n",
            "Epoch 7/32\n",
            "\u001b[1m9/9\u001b[0m \u001b[32m━━━━━━━━━━━━━━━━━━━━\u001b[0m\u001b[37m\u001b[0m \u001b[1m0s\u001b[0m 11ms/step - accuracy: 0.6439 - loss: 0.6511 - val_accuracy: 0.8182 - val_loss: 0.5937\n",
            "Epoch 8/32\n",
            "\u001b[1m9/9\u001b[0m \u001b[32m━━━━━━━━━━━━━━━━━━━━\u001b[0m\u001b[37m\u001b[0m \u001b[1m0s\u001b[0m 11ms/step - accuracy: 0.6555 - loss: 0.6451 - val_accuracy: 0.8252 - val_loss: 0.5874\n",
            "Epoch 9/32\n",
            "\u001b[1m9/9\u001b[0m \u001b[32m━━━━━━━━━━━━━━━━━━━━\u001b[0m\u001b[37m\u001b[0m \u001b[1m0s\u001b[0m 11ms/step - accuracy: 0.6515 - loss: 0.6286 - val_accuracy: 0.8252 - val_loss: 0.5805\n",
            "Epoch 10/32\n",
            "\u001b[1m9/9\u001b[0m \u001b[32m━━━━━━━━━━━━━━━━━━━━\u001b[0m\u001b[37m\u001b[0m \u001b[1m0s\u001b[0m 11ms/step - accuracy: 0.6378 - loss: 0.6427 - val_accuracy: 0.8322 - val_loss: 0.5750\n",
            "Epoch 11/32\n",
            "\u001b[1m9/9\u001b[0m \u001b[32m━━━━━━━━━━━━━━━━━━━━\u001b[0m\u001b[37m\u001b[0m \u001b[1m0s\u001b[0m 11ms/step - accuracy: 0.6506 - loss: 0.6381 - val_accuracy: 0.8112 - val_loss: 0.5698\n",
            "Epoch 12/32\n",
            "\u001b[1m9/9\u001b[0m \u001b[32m━━━━━━━━━━━━━━━━━━━━\u001b[0m\u001b[37m\u001b[0m \u001b[1m0s\u001b[0m 11ms/step - accuracy: 0.6349 - loss: 0.6360 - val_accuracy: 0.8322 - val_loss: 0.5647\n",
            "Epoch 13/32\n",
            "\u001b[1m9/9\u001b[0m \u001b[32m━━━━━━━━━━━━━━━━━━━━\u001b[0m\u001b[37m\u001b[0m \u001b[1m0s\u001b[0m 11ms/step - accuracy: 0.6608 - loss: 0.6096 - val_accuracy: 0.8322 - val_loss: 0.5560\n",
            "Epoch 14/32\n",
            "\u001b[1m9/9\u001b[0m \u001b[32m━━━━━━━━━━━━━━━━━━━━\u001b[0m\u001b[37m\u001b[0m \u001b[1m0s\u001b[0m 11ms/step - accuracy: 0.6688 - loss: 0.5951 - val_accuracy: 0.8531 - val_loss: 0.5458\n",
            "Epoch 15/32\n",
            "\u001b[1m9/9\u001b[0m \u001b[32m━━━━━━━━━━━━━━━━━━━━\u001b[0m\u001b[37m\u001b[0m \u001b[1m0s\u001b[0m 12ms/step - accuracy: 0.6111 - loss: 0.6371 - val_accuracy: 0.8531 - val_loss: 0.5407\n",
            "Epoch 16/32\n",
            "\u001b[1m9/9\u001b[0m \u001b[32m━━━━━━━━━━━━━━━━━━━━\u001b[0m\u001b[37m\u001b[0m \u001b[1m0s\u001b[0m 13ms/step - accuracy: 0.6393 - loss: 0.6270 - val_accuracy: 0.8531 - val_loss: 0.5383\n",
            "Epoch 17/32\n",
            "\u001b[1m9/9\u001b[0m \u001b[32m━━━━━━━━━━━━━━━━━━━━\u001b[0m\u001b[37m\u001b[0m \u001b[1m0s\u001b[0m 14ms/step - accuracy: 0.6655 - loss: 0.6213 - val_accuracy: 0.8531 - val_loss: 0.5359\n",
            "Epoch 18/32\n",
            "\u001b[1m9/9\u001b[0m \u001b[32m━━━━━━━━━━━━━━━━━━━━\u001b[0m\u001b[37m\u001b[0m \u001b[1m0s\u001b[0m 12ms/step - accuracy: 0.6795 - loss: 0.5863 - val_accuracy: 0.8531 - val_loss: 0.5303\n",
            "Epoch 19/32\n",
            "\u001b[1m9/9\u001b[0m \u001b[32m━━━━━━━━━━━━━━━━━━━━\u001b[0m\u001b[37m\u001b[0m \u001b[1m0s\u001b[0m 13ms/step - accuracy: 0.6836 - loss: 0.6119 - val_accuracy: 0.8462 - val_loss: 0.5257\n",
            "Epoch 20/32\n",
            "\u001b[1m9/9\u001b[0m \u001b[32m━━━━━━━━━━━━━━━━━━━━\u001b[0m\u001b[37m\u001b[0m \u001b[1m0s\u001b[0m 17ms/step - accuracy: 0.6325 - loss: 0.6339 - val_accuracy: 0.8392 - val_loss: 0.5230\n",
            "Epoch 21/32\n",
            "\u001b[1m9/9\u001b[0m \u001b[32m━━━━━━━━━━━━━━━━━━━━\u001b[0m\u001b[37m\u001b[0m \u001b[1m0s\u001b[0m 13ms/step - accuracy: 0.6699 - loss: 0.5836 - val_accuracy: 0.8392 - val_loss: 0.5187\n",
            "Epoch 22/32\n",
            "\u001b[1m9/9\u001b[0m \u001b[32m━━━━━━━━━━━━━━━━━━━━\u001b[0m\u001b[37m\u001b[0m \u001b[1m0s\u001b[0m 12ms/step - accuracy: 0.6592 - loss: 0.6006 - val_accuracy: 0.8322 - val_loss: 0.5145\n",
            "Epoch 23/32\n",
            "\u001b[1m9/9\u001b[0m \u001b[32m━━━━━━━━━━━━━━━━━━━━\u001b[0m\u001b[37m\u001b[0m \u001b[1m0s\u001b[0m 11ms/step - accuracy: 0.6669 - loss: 0.5938 - val_accuracy: 0.8392 - val_loss: 0.5103\n",
            "Epoch 24/32\n",
            "\u001b[1m9/9\u001b[0m \u001b[32m━━━━━━━━━━━━━━━━━━━━\u001b[0m\u001b[37m\u001b[0m \u001b[1m0s\u001b[0m 13ms/step - accuracy: 0.6541 - loss: 0.5806 - val_accuracy: 0.8392 - val_loss: 0.5086\n",
            "Epoch 25/32\n",
            "\u001b[1m9/9\u001b[0m \u001b[32m━━━━━━━━━━━━━━━━━━━━\u001b[0m\u001b[37m\u001b[0m \u001b[1m0s\u001b[0m 11ms/step - accuracy: 0.6535 - loss: 0.5951 - val_accuracy: 0.8462 - val_loss: 0.5079\n",
            "Epoch 26/32\n",
            "\u001b[1m9/9\u001b[0m \u001b[32m━━━━━━━━━━━━━━━━━━━━\u001b[0m\u001b[37m\u001b[0m \u001b[1m0s\u001b[0m 11ms/step - accuracy: 0.6429 - loss: 0.5872 - val_accuracy: 0.8462 - val_loss: 0.5061\n",
            "Epoch 27/32\n",
            "\u001b[1m9/9\u001b[0m \u001b[32m━━━━━━━━━━━━━━━━━━━━\u001b[0m\u001b[37m\u001b[0m \u001b[1m0s\u001b[0m 11ms/step - accuracy: 0.6553 - loss: 0.5768 - val_accuracy: 0.8462 - val_loss: 0.5018\n",
            "Epoch 28/32\n",
            "\u001b[1m9/9\u001b[0m \u001b[32m━━━━━━━━━━━━━━━━━━━━\u001b[0m\u001b[37m\u001b[0m \u001b[1m0s\u001b[0m 15ms/step - accuracy: 0.6586 - loss: 0.5993 - val_accuracy: 0.8531 - val_loss: 0.4978\n",
            "Epoch 29/32\n",
            "\u001b[1m9/9\u001b[0m \u001b[32m━━━━━━━━━━━━━━━━━━━━\u001b[0m\u001b[37m\u001b[0m \u001b[1m0s\u001b[0m 16ms/step - accuracy: 0.6581 - loss: 0.5827 - val_accuracy: 0.8462 - val_loss: 0.4950\n",
            "Epoch 30/32\n",
            "\u001b[1m9/9\u001b[0m \u001b[32m━━━━━━━━━━━━━━━━━━━━\u001b[0m\u001b[37m\u001b[0m \u001b[1m0s\u001b[0m 17ms/step - accuracy: 0.6775 - loss: 0.5870 - val_accuracy: 0.8531 - val_loss: 0.4916\n",
            "Epoch 31/32\n",
            "\u001b[1m9/9\u001b[0m \u001b[32m━━━━━━━━━━━━━━━━━━━━\u001b[0m\u001b[37m\u001b[0m \u001b[1m0s\u001b[0m 12ms/step - accuracy: 0.6441 - loss: 0.6170 - val_accuracy: 0.8322 - val_loss: 0.4893\n",
            "Epoch 32/32\n",
            "\u001b[1m9/9\u001b[0m \u001b[32m━━━━━━━━━━━━━━━━━━━━\u001b[0m\u001b[37m\u001b[0m \u001b[1m0s\u001b[0m 12ms/step - accuracy: 0.6508 - loss: 0.5674 - val_accuracy: 0.8392 - val_loss: 0.4837\n",
            "\u001b[1m6/6\u001b[0m \u001b[32m━━━━━━━━━━━━━━━━━━━━\u001b[0m\u001b[37m\u001b[0m \u001b[1m0s\u001b[0m 7ms/step - accuracy: 0.7970 - loss: 0.5170 \n",
            "Test Accuracy: 0.78\n"
          ]
        },
        {
          "output_type": "display_data",
          "data": {
            "text/plain": [
              "<Figure size 640x480 with 1 Axes>"
            ],
            "image/png": "[encoded data removed]"
          },
          "metadata": {}
        }
      ],
      "source": [
        "model = get_model2()\n",
        "history = model.fit(X_train, y_train, epochs=32, batch_size=64, validation_split=0.2)\n",
        "loss, accuracy = model.evaluate(X_test, y_test)\n",
        "print(f'Test Accuracy: {accuracy:.2f}')\n",
        "plt.plot(history.history['loss'])\n",
        "plt.plot(history.history['val_loss'])\n",
        "plt.title('model loss')\n",
        "plt.ylabel('loss')\n",
        "plt.xlabel('epoch')\n",
        "plt.legend(['train', 'val'], loc='upper left')\n",
        "plt.show()"
      ]
    },
    {
      "cell_type": "markdown",
      "metadata": {
        "id": "ZNZIVYKWz8B_"
      },
      "source": [
        "По результатам тестрировани яможно сказать что модель №1 показывает себя лучше нежели ее вторая версия, пожтому в дальнейших опытах будет использоваться первая модель"
      ]
    },
    {
      "cell_type": "markdown",
      "metadata": {
        "id": "N1OTOau3z8B_"
      },
      "source": [
        "# Кросс-валидация"
      ]
    },
    {
      "cell_type": "code",
      "execution_count": 166,
      "metadata": {
        "execution": {
          "iopub.execute_input": "2024-12-13T12:37:17.734347Z",
          "iopub.status.busy": "2024-12-13T12:37:17.733895Z",
          "iopub.status.idle": "2024-12-13T12:37:29.205093Z",
          "shell.execute_reply": "2024-12-13T12:37:29.204157Z",
          "shell.execute_reply.started": "2024-12-13T12:37:17.734301Z"
        },
        "trusted": true,
        "colab": {
          "base_uri": "https://localhost:8080/"
        },
        "id": "OTyVr4UMz8B_",
        "outputId": "f1691dfb-dc21-42d0-c849-cc8f7565b165"
      },
      "outputs": [
        {
          "output_type": "stream",
          "name": "stdout",
          "text": [
            "Epoch 1/32\n",
            "\u001b[1m18/18\u001b[0m \u001b[32m━━━━━━━━━━━━━━━━━━━━\u001b[0m\u001b[37m\u001b[0m \u001b[1m2s\u001b[0m 25ms/step - accuracy: 0.3869 - loss: 13.8076 - val_accuracy: 0.6643 - val_loss: 3.2931\n",
            "Epoch 2/32\n",
            "\u001b[1m18/18\u001b[0m \u001b[32m━━━━━━━━━━━━━━━━━━━━\u001b[0m\u001b[37m\u001b[0m \u001b[1m0s\u001b[0m 11ms/step - accuracy: 0.6192 - loss: 2.3783 - val_accuracy: 0.6923 - val_loss: 1.6790\n",
            "Epoch 3/32\n",
            "\u001b[1m18/18\u001b[0m \u001b[32m━━━━━━━━━━━━━━━━━━━━\u001b[0m\u001b[37m\u001b[0m \u001b[1m0s\u001b[0m 10ms/step - accuracy: 0.6249 - loss: 1.3502 - val_accuracy: 0.6993 - val_loss: 0.9490\n",
            "Epoch 4/32\n",
            "\u001b[1m18/18\u001b[0m \u001b[32m━━━━━━━━━━━━━━━━━━━━\u001b[0m\u001b[37m\u001b[0m \u001b[1m0s\u001b[0m 6ms/step - accuracy: 0.5599 - loss: 1.0829 - val_accuracy: 0.6713 - val_loss: 0.7682\n",
            "Epoch 5/32\n",
            "\u001b[1m18/18\u001b[0m \u001b[32m━━━━━━━━━━━━━━━━━━━━\u001b[0m\u001b[37m\u001b[0m \u001b[1m0s\u001b[0m 6ms/step - accuracy: 0.6433 - loss: 0.7459 - val_accuracy: 0.6923 - val_loss: 0.6682\n",
            "Epoch 6/32\n",
            "\u001b[1m18/18\u001b[0m \u001b[32m━━━━━━━━━━━━━━━━━━━━\u001b[0m\u001b[37m\u001b[0m \u001b[1m0s\u001b[0m 6ms/step - accuracy: 0.6548 - loss: 0.7182 - val_accuracy: 0.7273 - val_loss: 0.6508\n",
            "Epoch 7/32\n",
            "\u001b[1m18/18\u001b[0m \u001b[32m━━━━━━━━━━━━━━━━━━━━\u001b[0m\u001b[37m\u001b[0m \u001b[1m0s\u001b[0m 6ms/step - accuracy: 0.6554 - loss: 0.7272 - val_accuracy: 0.6783 - val_loss: 0.7033\n",
            "Epoch 8/32\n",
            "\u001b[1m18/18\u001b[0m \u001b[32m━━━━━━━━━━━━━━━━━━━━\u001b[0m\u001b[37m\u001b[0m \u001b[1m0s\u001b[0m 6ms/step - accuracy: 0.6776 - loss: 0.6997 - val_accuracy: 0.7063 - val_loss: 0.6635\n",
            "Epoch 9/32\n",
            "\u001b[1m18/18\u001b[0m \u001b[32m━━━━━━━━━━━━━━━━━━━━\u001b[0m\u001b[37m\u001b[0m \u001b[1m0s\u001b[0m 6ms/step - accuracy: 0.6293 - loss: 0.7478 - val_accuracy: 0.7413 - val_loss: 0.6250\n",
            "Epoch 10/32\n",
            "\u001b[1m18/18\u001b[0m \u001b[32m━━━━━━━━━━━━━━━━━━━━\u001b[0m\u001b[37m\u001b[0m \u001b[1m0s\u001b[0m 6ms/step - accuracy: 0.6604 - loss: 0.7615 - val_accuracy: 0.7203 - val_loss: 0.6606\n",
            "Epoch 11/32\n",
            "\u001b[1m18/18\u001b[0m \u001b[32m━━━━━━━━━━━━━━━━━━━━\u001b[0m\u001b[37m\u001b[0m \u001b[1m0s\u001b[0m 6ms/step - accuracy: 0.6940 - loss: 0.6443 - val_accuracy: 0.6993 - val_loss: 0.5803\n",
            "Epoch 12/32\n",
            "\u001b[1m18/18\u001b[0m \u001b[32m━━━━━━━━━━━━━━━━━━━━\u001b[0m\u001b[37m\u001b[0m \u001b[1m0s\u001b[0m 6ms/step - accuracy: 0.7123 - loss: 0.6019 - val_accuracy: 0.7203 - val_loss: 0.6799\n",
            "Epoch 13/32\n",
            "\u001b[1m18/18\u001b[0m \u001b[32m━━━━━━━━━━━━━━━━━━━━\u001b[0m\u001b[37m\u001b[0m \u001b[1m0s\u001b[0m 6ms/step - accuracy: 0.6273 - loss: 0.8056 - val_accuracy: 0.7413 - val_loss: 0.6004\n",
            "Epoch 14/32\n",
            "\u001b[1m18/18\u001b[0m \u001b[32m━━━━━━━━━━━━━━━━━━━━\u001b[0m\u001b[37m\u001b[0m \u001b[1m0s\u001b[0m 6ms/step - accuracy: 0.6242 - loss: 0.8347 - val_accuracy: 0.7063 - val_loss: 0.6482\n",
            "Epoch 15/32\n",
            "\u001b[1m18/18\u001b[0m \u001b[32m━━━━━━━━━━━━━━━━━━━━\u001b[0m\u001b[37m\u001b[0m \u001b[1m0s\u001b[0m 6ms/step - accuracy: 0.6929 - loss: 0.6416 - val_accuracy: 0.6993 - val_loss: 0.5667\n",
            "Epoch 16/32\n",
            "\u001b[1m18/18\u001b[0m \u001b[32m━━━━━━━━━━━━━━━━━━━━\u001b[0m\u001b[37m\u001b[0m \u001b[1m0s\u001b[0m 6ms/step - accuracy: 0.7041 - loss: 0.6352 - val_accuracy: 0.7203 - val_loss: 0.6435\n",
            "Epoch 17/32\n",
            "\u001b[1m18/18\u001b[0m \u001b[32m━━━━━━━━━━━━━━━━━━━━\u001b[0m\u001b[37m\u001b[0m \u001b[1m0s\u001b[0m 6ms/step - accuracy: 0.7229 - loss: 0.6466 - val_accuracy: 0.7273 - val_loss: 0.5141\n",
            "Epoch 18/32\n",
            "\u001b[1m18/18\u001b[0m \u001b[32m━━━━━━━━━━━━━━━━━━━━\u001b[0m\u001b[37m\u001b[0m \u001b[1m0s\u001b[0m 7ms/step - accuracy: 0.7073 - loss: 0.6035 - val_accuracy: 0.7692 - val_loss: 0.5084\n",
            "Epoch 19/32\n",
            "\u001b[1m18/18\u001b[0m \u001b[32m━━━━━━━━━━━━━━━━━━━━\u001b[0m\u001b[37m\u001b[0m \u001b[1m0s\u001b[0m 6ms/step - accuracy: 0.7198 - loss: 0.5618 - val_accuracy: 0.8042 - val_loss: 0.5265\n",
            "Epoch 20/32\n",
            "\u001b[1m18/18\u001b[0m \u001b[32m━━━━━━━━━━━━━━━━━━━━\u001b[0m\u001b[37m\u001b[0m \u001b[1m0s\u001b[0m 6ms/step - accuracy: 0.7625 - loss: 0.5728 - val_accuracy: 0.7063 - val_loss: 0.5449\n",
            "Epoch 21/32\n",
            "\u001b[1m18/18\u001b[0m \u001b[32m━━━━━━━━━━━━━━━━━━━━\u001b[0m\u001b[37m\u001b[0m \u001b[1m0s\u001b[0m 6ms/step - accuracy: 0.7254 - loss: 0.5737 - val_accuracy: 0.7343 - val_loss: 0.5087\n",
            "Epoch 22/32\n",
            "\u001b[1m18/18\u001b[0m \u001b[32m━━━━━━━━━━━━━━━━━━━━\u001b[0m\u001b[37m\u001b[0m \u001b[1m0s\u001b[0m 6ms/step - accuracy: 0.6844 - loss: 0.5982 - val_accuracy: 0.7692 - val_loss: 0.4902\n",
            "Epoch 23/32\n",
            "\u001b[1m18/18\u001b[0m \u001b[32m━━━━━━━━━━━━━━━━━━━━\u001b[0m\u001b[37m\u001b[0m \u001b[1m0s\u001b[0m 7ms/step - accuracy: 0.7687 - loss: 0.5216 - val_accuracy: 0.7972 - val_loss: 0.5253\n",
            "Epoch 24/32\n",
            "\u001b[1m18/18\u001b[0m \u001b[32m━━━━━━━━━━━━━━━━━━━━\u001b[0m\u001b[37m\u001b[0m \u001b[1m0s\u001b[0m 9ms/step - accuracy: 0.6912 - loss: 0.6235 - val_accuracy: 0.6993 - val_loss: 0.6161\n",
            "Epoch 25/32\n",
            "\u001b[1m18/18\u001b[0m \u001b[32m━━━━━━━━━━━━━━━━━━━━\u001b[0m\u001b[37m\u001b[0m \u001b[1m0s\u001b[0m 7ms/step - accuracy: 0.7249 - loss: 0.5962 - val_accuracy: 0.7343 - val_loss: 0.5866\n",
            "Epoch 26/32\n",
            "\u001b[1m18/18\u001b[0m \u001b[32m━━━━━━━━━━━━━━━━━━━━\u001b[0m\u001b[37m\u001b[0m \u001b[1m0s\u001b[0m 8ms/step - accuracy: 0.7393 - loss: 0.5909 - val_accuracy: 0.6993 - val_loss: 0.5995\n",
            "Epoch 27/32\n",
            "\u001b[1m18/18\u001b[0m \u001b[32m━━━━━━━━━━━━━━━━━━━━\u001b[0m\u001b[37m\u001b[0m \u001b[1m0s\u001b[0m 8ms/step - accuracy: 0.6900 - loss: 0.5965 - val_accuracy: 0.7552 - val_loss: 0.4916\n",
            "Epoch 28/32\n",
            "\u001b[1m18/18\u001b[0m \u001b[32m━━━━━━━━━━━━━━━━━━━━\u001b[0m\u001b[37m\u001b[0m \u001b[1m0s\u001b[0m 8ms/step - accuracy: 0.7335 - loss: 0.5432 - val_accuracy: 0.7413 - val_loss: 0.5164\n",
            "Epoch 29/32\n",
            "\u001b[1m18/18\u001b[0m \u001b[32m━━━━━━━━━━━━━━━━━━━━\u001b[0m\u001b[37m\u001b[0m \u001b[1m0s\u001b[0m 6ms/step - accuracy: 0.7300 - loss: 0.5794 - val_accuracy: 0.8252 - val_loss: 0.4655\n",
            "Epoch 30/32\n",
            "\u001b[1m18/18\u001b[0m \u001b[32m━━━━━━━━━━━━━━━━━━━━\u001b[0m\u001b[37m\u001b[0m \u001b[1m0s\u001b[0m 6ms/step - accuracy: 0.7677 - loss: 0.5193 - val_accuracy: 0.7273 - val_loss: 0.5402\n",
            "Epoch 31/32\n",
            "\u001b[1m18/18\u001b[0m \u001b[32m━━━━━━━━━━━━━━━━━━━━\u001b[0m\u001b[37m\u001b[0m \u001b[1m0s\u001b[0m 6ms/step - accuracy: 0.7401 - loss: 0.5436 - val_accuracy: 0.8112 - val_loss: 0.4668\n",
            "Epoch 32/32\n",
            "\u001b[1m18/18\u001b[0m \u001b[32m━━━━━━━━━━━━━━━━━━━━\u001b[0m\u001b[37m\u001b[0m \u001b[1m0s\u001b[0m 7ms/step - accuracy: 0.7648 - loss: 0.5298 - val_accuracy: 0.8252 - val_loss: 0.4724\n",
            "\u001b[1m6/6\u001b[0m \u001b[32m━━━━━━━━━━━━━━━━━━━━\u001b[0m\u001b[37m\u001b[0m \u001b[1m0s\u001b[0m 9ms/step - accuracy: 0.8204 - loss: 0.4825 \n",
            "\u001b[1m10/10\u001b[0m \u001b[32m━━━━━━━━━━━━━━━━━━━━\u001b[0m\u001b[37m\u001b[0m \u001b[1m0s\u001b[0m 11ms/step\n",
            "Confusion Matrix:\n",
            "[[137  40]\n",
            " [ 29  91]]\n",
            "\n",
            "Classification Report:\n",
            "              precision    recall  f1-score   support\n",
            "\n",
            "           0       0.83      0.77      0.80       177\n",
            "           1       0.69      0.76      0.73       120\n",
            "\n",
            "    accuracy                           0.77       297\n",
            "   macro avg       0.76      0.77      0.76       297\n",
            "weighted avg       0.77      0.77      0.77       297\n",
            "\n",
            "\u001b[1m10/10\u001b[0m \u001b[32m━━━━━━━━━━━━━━━━━━━━\u001b[0m\u001b[37m\u001b[0m \u001b[1m0s\u001b[0m 3ms/step \n",
            "Confusion Matrix:\n",
            "[[170  15]\n",
            " [ 43  69]]\n",
            "\n",
            "Classification Report:\n",
            "              precision    recall  f1-score   support\n",
            "\n",
            "           0       0.80      0.92      0.85       185\n",
            "           1       0.82      0.62      0.70       112\n",
            "\n",
            "    accuracy                           0.80       297\n",
            "   macro avg       0.81      0.77      0.78       297\n",
            "weighted avg       0.81      0.80      0.80       297\n",
            "\n",
            "\u001b[1m10/10\u001b[0m \u001b[32m━━━━━━━━━━━━━━━━━━━━\u001b[0m\u001b[37m\u001b[0m \u001b[1m0s\u001b[0m 3ms/step \n",
            "Confusion Matrix:\n",
            "[[179   8]\n",
            " [ 68  42]]\n",
            "\n",
            "Classification Report:\n",
            "              precision    recall  f1-score   support\n",
            "\n",
            "           0       0.72      0.96      0.82       187\n",
            "           1       0.84      0.38      0.53       110\n",
            "\n",
            "    accuracy                           0.74       297\n",
            "   macro avg       0.78      0.67      0.67       297\n",
            "weighted avg       0.77      0.74      0.71       297\n",
            "\n",
            "Best model index: 1\n",
            "Average Accuracy: 0.7722\n",
            "Standard Deviation of Accuracy: 0.0249\n",
            "Average Loss: 0.5459\n",
            "Standard Deviation of Loss: 0.0367\n"
          ]
        }
      ],
      "source": [
        "from sklearn.model_selection import KFold\n",
        "from sklearn.metrics import confusion_matrix, classification_report\n",
        "\n",
        "X_train, X_test, y_train, y_test = train_test_split(X, y, test_size=0.2, random_state=42)\n",
        "\n",
        "model = get_model1()\n",
        "history = model.fit(X_train, y_train, epochs=32, batch_size=32, validation_split=0.2)\n",
        "\n",
        "loss, accuracy = model.evaluate(X_test, y_test)\n",
        "\n",
        "\n",
        "kf = KFold(n_splits=3, shuffle=True, random_state=42)\n",
        "accuracies = []\n",
        "losses = []\n",
        "confusion_matrices = []\n",
        "X1 = pd.DataFrame(scaler.transform(X_train), columns=X_train.columns, index=X_train.index)\n",
        "for train_index, test_index in kf.split(X):\n",
        "\n",
        "    X_train, X_test = X.iloc[train_index], X.iloc[test_index]\n",
        "    y_train, y_test = y.iloc[train_index], y.iloc[test_index]\n",
        "\n",
        "    history = model.fit(X_train, y_train,\n",
        "                        epochs=32, batch_size=32,\n",
        "                        validation_data=(X_test, y_test),\n",
        "                        verbose=0)\n",
        "    y_pred = model.predict(X_test)\n",
        "    if len(accuracies) == 0 or history.history['val_accuracy'][-1] > max(accuracies):\n",
        "        best_pred = y_pred\n",
        "    accuracies.append(history.history['val_accuracy'][-1])\n",
        "    losses.append(history.history['val_loss'][-1])\n",
        "\n",
        "    conf_matrix = confusion_matrix(y_test, (y_pred > 0.5).astype(int))\n",
        "    confusion_matrices.append(conf_matrix)\n",
        "    print(\"Confusion Matrix:\")\n",
        "    print(conf_matrix)\n",
        "\n",
        "    print(\"\\nClassification Report:\")\n",
        "    print(classification_report(y_test, (y_pred > 0.5).astype(int)))\n",
        "best_model_index = np.argmax(accuracies)\n",
        "print(f\"Best model index: {best_model_index}\")\n",
        "print(f\"Average Accuracy: {np.mean(accuracies):.4f}\")\n",
        "print(f\"Standard Deviation of Accuracy: {np.std(accuracies):.4f}\")\n",
        "print(f\"Average Loss: {np.mean(losses):.4f}\")\n",
        "print(f\"Standard Deviation of Loss: {np.std(losses):.4f}\")"
      ]
    },
    {
      "cell_type": "code",
      "execution_count": 167,
      "metadata": {
        "execution": {
          "iopub.execute_input": "2024-12-13T12:37:29.206629Z",
          "iopub.status.busy": "2024-12-13T12:37:29.206338Z",
          "iopub.status.idle": "2024-12-13T12:37:29.361888Z",
          "shell.execute_reply": "2024-12-13T12:37:29.360821Z",
          "shell.execute_reply.started": "2024-12-13T12:37:29.206597Z"
        },
        "trusted": true,
        "colab": {
          "base_uri": "https://localhost:8080/",
          "height": 564
        },
        "id": "GKbQgb9pz8B_",
        "outputId": "911b023e-2cbc-499b-fd34-af244d635146"
      },
      "outputs": [
        {
          "output_type": "display_data",
          "data": {
            "text/plain": [
              "<Figure size 800x600 with 1 Axes>"
            ],
            "image/png": "[encoded data removed]"
          },
          "metadata": {}
        }
      ],
      "source": [
        "total_confusion_matrix = np.sum(confusion_matrices, axis=0)\n",
        "\n",
        "plt.figure(figsize=(8, 6))\n",
        "\n",
        "# Построение тепловой карты матрицы ошибок\n",
        "sns.heatmap(\n",
        "    total_confusion_matrix,\n",
        "    annot=True,\n",
        "    fmt='d',\n",
        "    cmap='Blues',\n",
        "    cbar=False,\n",
        "    xticklabels=['Предсказано умер', 'Предсказано выжил'],\n",
        "    yticklabels=['Фактически умер', 'Фактически выжил']\n",
        ")\n",
        "\n",
        "plt.xlabel('Предсказанный класс')\n",
        "plt.ylabel('Истинный класс')\n",
        "plt.title('Матрица ошибок для кросс-валидации')\n",
        "\n",
        "plt.show()"
      ]
    },
    {
      "cell_type": "code",
      "execution_count": 168,
      "metadata": {
        "execution": {
          "iopub.execute_input": "2024-12-13T12:37:29.363527Z",
          "iopub.status.busy": "2024-12-13T12:37:29.363109Z",
          "iopub.status.idle": "2024-12-13T12:37:29.472560Z",
          "shell.execute_reply": "2024-12-13T12:37:29.471540Z",
          "shell.execute_reply.started": "2024-12-13T12:37:29.363481Z"
        },
        "trusted": true,
        "colab": {
          "base_uri": "https://localhost:8080/"
        },
        "id": "T5hNdNFGz8B_",
        "outputId": "f97635e0-4566-48ca-9eb5-820795acea5a"
      },
      "outputs": [
        {
          "output_type": "stream",
          "name": "stdout",
          "text": [
            "\u001b[1m6/6\u001b[0m \u001b[32m━━━━━━━━━━━━━━━━━━━━\u001b[0m\u001b[37m\u001b[0m \u001b[1m0s\u001b[0m 5ms/step \n",
            "Confusion Matrix:\n",
            "[[100   5]\n",
            " [ 40  34]]\n",
            "\n",
            "Classification Report:\n",
            "              precision    recall  f1-score   support\n",
            "\n",
            "           0       0.71      0.95      0.82       105\n",
            "           1       0.87      0.46      0.60        74\n",
            "\n",
            "    accuracy                           0.75       179\n",
            "   macro avg       0.79      0.71      0.71       179\n",
            "weighted avg       0.78      0.75      0.73       179\n",
            "\n"
          ]
        }
      ],
      "source": [
        "X_train, X_test, y_train, y_test = train_test_split(X, y, test_size=0.2, random_state=42)\n",
        "y_pred = model.predict(X_test)\n",
        "if len(accuracies) == 0 or history.history['val_accuracy'][-1] > max(accuracies):\n",
        "    best_pred = y_pred\n",
        "accuracies.append(history.history['val_accuracy'][-1])\n",
        "losses.append(history.history['val_loss'][-1])\n",
        "\n",
        "conf_matrix = confusion_matrix(y_test, (y_pred > 0.5).astype(int))\n",
        "\n",
        "print(\"Confusion Matrix:\")\n",
        "print(conf_matrix)\n",
        "\n",
        "print(\"\\nClassification Report:\")\n",
        "print(classification_report(y_test, (y_pred > 0.5).astype(int)))\n",
        "tn, fp, fn, tp = conf_matrix.ravel()"
      ]
    },
    {
      "cell_type": "markdown",
      "metadata": {
        "id": "VcHSMyruz8B_"
      },
      "source": [
        "## №1 Кросс-валидация с билетами"
      ]
    },
    {
      "cell_type": "code",
      "execution_count": 169,
      "metadata": {
        "execution": {
          "iopub.execute_input": "2024-12-13T12:37:29.474252Z",
          "iopub.status.busy": "2024-12-13T12:37:29.473871Z",
          "iopub.status.idle": "2024-12-13T12:37:29.488729Z",
          "shell.execute_reply": "2024-12-13T12:37:29.487690Z",
          "shell.execute_reply.started": "2024-12-13T12:37:29.474219Z"
        },
        "trusted": true,
        "colab": {
          "base_uri": "https://localhost:8080/",
          "height": 549
        },
        "id": "HfKXJTiez8B_",
        "outputId": "b3ae3d91-e8f8-4554-ec70-be54c49f99b0"
      },
      "outputs": [
        {
          "output_type": "stream",
          "name": "stdout",
          "text": [
            "\n",
            "Отчет классификации:\n",
            "              precision  recall  f1-score  support\n",
            "0                  0.71    0.95      0.82   105.00\n",
            "1                  0.87    0.46      0.60    74.00\n",
            "accuracy           0.75    0.75      0.75     0.75\n",
            "macro avg          0.79    0.71      0.71   179.00\n",
            "weighted avg       0.78    0.75      0.73   179.00\n"
          ]
        },
        {
          "output_type": "display_data",
          "data": {
            "text/plain": [
              "<Figure size 600x400 with 2 Axes>"
            ],
            "image/png": "[encoded data removed]"
          },
          "metadata": {}
        }
      ],
      "source": [
        "report_dict = classification_report(y_test, (y_pred > 0.5).astype(int), output_dict=True)\n",
        "report_df = pd.DataFrame(report_dict).transpose()\n",
        "print(\"\\nОтчет классификации:\")\n",
        "print(report_df.round(2))\n",
        "\n",
        "# Матрица ошибок\n",
        "confusion_matrix = [[tn, fp], [fn, tp]]\n",
        "plt.figure(figsize=(6, 4))\n",
        "sns.heatmap(\n",
        "    confusion_matrix,\n",
        "    annot=True,\n",
        "    fmt='d',\n",
        "    cmap='Blues',\n",
        "    xticklabels=['Предсказано 0', 'Предсказано 1'],\n",
        "    yticklabels=['Фактически 0', 'Фактически 1']\n",
        ")\n",
        "plt.xlabel('Предсказанные значения')\n",
        "plt.ylabel('Истинные значения')\n",
        "plt.title('Матрица ошибок')\n",
        "plt.show()"
      ]
    },
    {
      "cell_type": "markdown",
      "metadata": {
        "id": "7XP6i9gKz8B_"
      },
      "source": [
        "## №2 Кросс-валидация без билетов"
      ]
    },
    {
      "cell_type": "markdown",
      "metadata": {
        "id": "ogUGJa6Cz8B_"
      },
      "source": [
        "Classification Report:\n",
        "              precision    recall  f1-score   support\n",
        "\n",
        "           0       0.86      0.84      0.85       105\n",
        "           1       0.78      0.81      0.79        74\n",
        "\n",
        "    accuracy                           0.83       179\n",
        "   macro avg       0.82      0.82      0.82       179\n",
        "weighted avg       0.83      0.83      0.83       179\n"
      ]
    },
    {
      "cell_type": "markdown",
      "metadata": {
        "id": "b7yMp1_vz8B_"
      },
      "source": [
        "## Результаты"
      ]
    },
    {
      "cell_type": "markdown",
      "metadata": {
        "id": "uaUVK_lfz8CA"
      },
      "source": [
        "Результаты кросс-валидации, исключающей данные о билетах, оказались значительно ниже. Это свидетельствует о том, что информация о билетах играет важную роль в прогнозировании выживаемости пассажиров"
      ]
    },
    {
      "cell_type": "markdown",
      "metadata": {
        "id": "cy_--yi6z8CA"
      },
      "source": [
        "# Итоговый вывод:\n",
        "\n",
        "В рамках исследования был проведён комплексный анализ данных, включающий следующие этапы:\n",
        "\n",
        "## Предобработка и Feature Engineering:\n",
        "\n",
        "Анализ пропущенных значений, аномалий и распределений признаков.\n",
        "\n",
        "Создание новых признаков (например, извлечение титулов из имени, категоризация билетов).\n",
        "\n",
        "Удаление малозначимых столбцов (PassengerId, Cabin) из-за высокой доли пропусков или избыточности.\n",
        "\n",
        "## Проверка значимости признаков:\n",
        "\n",
        "Для оценки важности билетов (Ticket) использовались методы анализа корреляций и feature importance в моделях (например, Random Forest).\n",
        "\n",
        "Результаты показали, что информация о билетах имеет ограниченное влияние на целевую переменную, поэтому были созданы две версии датасета (с признаком Ticket и без него).\n",
        "\n",
        "## Построение и сравнение моделей:\n",
        "\n",
        "Протестированы различные алгоритмы: логистическая регрессия, Random Forest, Gradient Boosting и нейронные сети.\n",
        "\n",
        "Лучший результат продемонстрировала модель на основе нейронной сети с F1-скором 0.85, что указывает на высокую сбалансированность точности и полноты.\n",
        "\n",
        "## Оценка стабильности обучения:\n",
        "\n",
        "Графики потерь (loss curves) подтвердили отсутствие переобучения: значения потерь на тренировочном и валидационном наборах монотонно снижались.\n",
        "\n",
        "Матрица ошибок показала, что модель хорошо справляется с предсказанием как положительных (выжившие), так и отрицательных (погибшие) классов.\n",
        "\n",
        "## Практическая значимость:\n",
        "Модель может быть использована для прогнозирования выживаемости в исторических или аналогичных сценариях. Однако её эффективность зависит от качества входных данных и релевантности признаков."
      ]
    }
  ],
  "metadata": {
    "kaggle": {
      "accelerator": "none",
      "dataSources": [
        {
          "databundleVersionId": 26502,
          "sourceId": 3136,
          "sourceType": "competition"
        },
        {
          "datasetId": 1247358,
          "sourceId": 2080558,
          "sourceType": "datasetVersion"
        }
      ],
      "dockerImageVersionId": 30804,
      "isGpuEnabled": false,
      "isInternetEnabled": false,
      "language": "python",
      "sourceType": "notebook"
    },
    "kernelspec": {
      "display_name": "Python 3",
      "language": "python",
      "name": "python3"
    },
    "language_info": {
      "codemirror_mode": {
        "name": "ipython",
        "version": 3
      },
      "file_extension": ".py",
      "mimetype": "text/x-python",
      "name": "python",
      "nbconvert_exporter": "python",
      "pygments_lexer": "ipython3",
      "version": "3.12.3"
    },
    "colab": {
      "provenance": []
    }
  },
  "nbformat": 4,
  "nbformat_minor": 0
}